{
 "cells": [
  {
   "cell_type": "markdown",
   "metadata": {},
   "source": [
    "## Identifying Duplicate Questions"
   ]
  },
  {
   "cell_type": "markdown",
   "metadata": {},
   "source": [
    "Over 100 million people visit Quora every month, so it's no surprise that many people ask similar (or the same) questions. Various questions with the same intent can cause people to spend extra time searching for the best answer to their question, and results in members answering multiple versions of the same question. <br>\n",
    "\n",
    "This notebook introduces a machine learning model that predicts whether a pair of questions are duplicates or not.<br>\n",
    "It also offer a machine learning-based search feature. Through this feature, a user can enter a question function and the model will return the most similar question to it, or a NAN if none exist. <br>\n",
    "\n",
    "\n",
    "I will solve this problem by the following steps:\n",
    "1. Get Dataset\n",
    "2. Data Exploration\n",
    "3. Data Cleaning\n",
    "4. Feature Engineering\n",
    "5. Modeling\n",
    "6. find the same question\n",
    "7. Use the Model to find similar question for user\n",
    "8. Conclusion\n"
   ]
  },
  {
   "cell_type": "markdown",
   "metadata": {},
   "source": [
    "## 1. Get Dataset"
   ]
  },
  {
   "cell_type": "markdown",
   "metadata": {},
   "source": [
    "The dataset can be found [here](https://raw.githubusercontent.com/fengchunshan/find_duplicated_question/main/train.csv)."
   ]
  },
  {
   "cell_type": "code",
   "execution_count": 1,
   "metadata": {},
   "outputs": [
    {
     "data": {
      "text/html": [
       "<div>\n",
       "<style scoped>\n",
       "    .dataframe tbody tr th:only-of-type {\n",
       "        vertical-align: middle;\n",
       "    }\n",
       "\n",
       "    .dataframe tbody tr th {\n",
       "        vertical-align: top;\n",
       "    }\n",
       "\n",
       "    .dataframe thead th {\n",
       "        text-align: right;\n",
       "    }\n",
       "</style>\n",
       "<table border=\"1\" class=\"dataframe\">\n",
       "  <thead>\n",
       "    <tr style=\"text-align: right;\">\n",
       "      <th></th>\n",
       "      <th>id</th>\n",
       "      <th>qid1</th>\n",
       "      <th>qid2</th>\n",
       "      <th>question1</th>\n",
       "      <th>question2</th>\n",
       "      <th>is_duplicate</th>\n",
       "    </tr>\n",
       "  </thead>\n",
       "  <tbody>\n",
       "    <tr>\n",
       "      <th>0</th>\n",
       "      <td>0</td>\n",
       "      <td>1</td>\n",
       "      <td>2</td>\n",
       "      <td>What is the step by step guide to invest in sh...</td>\n",
       "      <td>What is the step by step guide to invest in sh...</td>\n",
       "      <td>0</td>\n",
       "    </tr>\n",
       "    <tr>\n",
       "      <th>1</th>\n",
       "      <td>1</td>\n",
       "      <td>3</td>\n",
       "      <td>4</td>\n",
       "      <td>What is the story of Kohinoor (Koh-i-Noor) Dia...</td>\n",
       "      <td>What would happen if the Indian government sto...</td>\n",
       "      <td>0</td>\n",
       "    </tr>\n",
       "    <tr>\n",
       "      <th>2</th>\n",
       "      <td>2</td>\n",
       "      <td>5</td>\n",
       "      <td>6</td>\n",
       "      <td>How can I increase the speed of my internet co...</td>\n",
       "      <td>How can Internet speed be increased by hacking...</td>\n",
       "      <td>0</td>\n",
       "    </tr>\n",
       "    <tr>\n",
       "      <th>3</th>\n",
       "      <td>3</td>\n",
       "      <td>7</td>\n",
       "      <td>8</td>\n",
       "      <td>Why am I mentally very lonely? How can I solve...</td>\n",
       "      <td>Find the remainder when [math]23^{24}[/math] i...</td>\n",
       "      <td>0</td>\n",
       "    </tr>\n",
       "    <tr>\n",
       "      <th>4</th>\n",
       "      <td>4</td>\n",
       "      <td>9</td>\n",
       "      <td>10</td>\n",
       "      <td>Which one dissolve in water quikly sugar, salt...</td>\n",
       "      <td>Which fish would survive in salt water?</td>\n",
       "      <td>0</td>\n",
       "    </tr>\n",
       "  </tbody>\n",
       "</table>\n",
       "</div>"
      ],
      "text/plain": [
       "   id  qid1  qid2                                          question1  \\\n",
       "0   0     1     2  What is the step by step guide to invest in sh...   \n",
       "1   1     3     4  What is the story of Kohinoor (Koh-i-Noor) Dia...   \n",
       "2   2     5     6  How can I increase the speed of my internet co...   \n",
       "3   3     7     8  Why am I mentally very lonely? How can I solve...   \n",
       "4   4     9    10  Which one dissolve in water quikly sugar, salt...   \n",
       "\n",
       "                                           question2  is_duplicate  \n",
       "0  What is the step by step guide to invest in sh...             0  \n",
       "1  What would happen if the Indian government sto...             0  \n",
       "2  How can Internet speed be increased by hacking...             0  \n",
       "3  Find the remainder when [math]23^{24}[/math] i...             0  \n",
       "4            Which fish would survive in salt water?             0  "
      ]
     },
     "execution_count": 1,
     "metadata": {},
     "output_type": "execute_result"
    }
   ],
   "source": [
    "import pandas as pd\n",
    "df = pd.read_csv(\"train.csv\", encoding='cp1252')\n",
    "df = df.loc[:, ~df.columns.str.contains('^Unnamed')]\n",
    "df.head()"
   ]
  },
  {
   "cell_type": "markdown",
   "metadata": {},
   "source": [
    "## 2, Data Exploration"
   ]
  },
  {
   "cell_type": "markdown",
   "metadata": {},
   "source": [
    "I will do the following:\n",
    "2.1. Describe the data.\n",
    "2.2. check for missing data\n",
    "2.3. check for imbalance"
   ]
  },
  {
   "cell_type": "markdown",
   "metadata": {},
   "source": [
    "2.1. Describe the data"
   ]
  },
  {
   "cell_type": "code",
   "execution_count": 2,
   "metadata": {},
   "outputs": [
    {
     "data": {
      "text/html": [
       "<div>\n",
       "<style scoped>\n",
       "    .dataframe tbody tr th:only-of-type {\n",
       "        vertical-align: middle;\n",
       "    }\n",
       "\n",
       "    .dataframe tbody tr th {\n",
       "        vertical-align: top;\n",
       "    }\n",
       "\n",
       "    .dataframe thead th {\n",
       "        text-align: right;\n",
       "    }\n",
       "</style>\n",
       "<table border=\"1\" class=\"dataframe\">\n",
       "  <thead>\n",
       "    <tr style=\"text-align: right;\">\n",
       "      <th></th>\n",
       "      <th>id</th>\n",
       "      <th>qid1</th>\n",
       "      <th>qid2</th>\n",
       "      <th>is_duplicate</th>\n",
       "    </tr>\n",
       "  </thead>\n",
       "  <tbody>\n",
       "    <tr>\n",
       "      <th>count</th>\n",
       "      <td>50863.000000</td>\n",
       "      <td>50863.000000</td>\n",
       "      <td>50863.000000</td>\n",
       "      <td>50863.000000</td>\n",
       "    </tr>\n",
       "    <tr>\n",
       "      <th>mean</th>\n",
       "      <td>25431.000000</td>\n",
       "      <td>42928.751214</td>\n",
       "      <td>42984.204510</td>\n",
       "      <td>0.372746</td>\n",
       "    </tr>\n",
       "    <tr>\n",
       "      <th>std</th>\n",
       "      <td>14683.027708</td>\n",
       "      <td>26163.533039</td>\n",
       "      <td>26181.553684</td>\n",
       "      <td>0.483540</td>\n",
       "    </tr>\n",
       "    <tr>\n",
       "      <th>min</th>\n",
       "      <td>0.000000</td>\n",
       "      <td>1.000000</td>\n",
       "      <td>2.000000</td>\n",
       "      <td>0.000000</td>\n",
       "    </tr>\n",
       "    <tr>\n",
       "      <th>25%</th>\n",
       "      <td>12715.500000</td>\n",
       "      <td>19998.000000</td>\n",
       "      <td>20008.000000</td>\n",
       "      <td>0.000000</td>\n",
       "    </tr>\n",
       "    <tr>\n",
       "      <th>50%</th>\n",
       "      <td>25431.000000</td>\n",
       "      <td>41826.000000</td>\n",
       "      <td>41883.000000</td>\n",
       "      <td>0.000000</td>\n",
       "    </tr>\n",
       "    <tr>\n",
       "      <th>75%</th>\n",
       "      <td>38146.500000</td>\n",
       "      <td>65312.000000</td>\n",
       "      <td>65471.000000</td>\n",
       "      <td>1.000000</td>\n",
       "    </tr>\n",
       "    <tr>\n",
       "      <th>max</th>\n",
       "      <td>50862.000000</td>\n",
       "      <td>90312.000000</td>\n",
       "      <td>90313.000000</td>\n",
       "      <td>1.000000</td>\n",
       "    </tr>\n",
       "  </tbody>\n",
       "</table>\n",
       "</div>"
      ],
      "text/plain": [
       "                 id          qid1          qid2  is_duplicate\n",
       "count  50863.000000  50863.000000  50863.000000  50863.000000\n",
       "mean   25431.000000  42928.751214  42984.204510      0.372746\n",
       "std    14683.027708  26163.533039  26181.553684      0.483540\n",
       "min        0.000000      1.000000      2.000000      0.000000\n",
       "25%    12715.500000  19998.000000  20008.000000      0.000000\n",
       "50%    25431.000000  41826.000000  41883.000000      0.000000\n",
       "75%    38146.500000  65312.000000  65471.000000      1.000000\n",
       "max    50862.000000  90312.000000  90313.000000      1.000000"
      ]
     },
     "execution_count": 2,
     "metadata": {},
     "output_type": "execute_result"
    }
   ],
   "source": [
    "df.describe()"
   ]
  },
  {
   "cell_type": "code",
   "execution_count": 3,
   "metadata": {},
   "outputs": [
    {
     "name": "stdout",
     "output_type": "stream",
     "text": [
      "<class 'pandas.core.frame.DataFrame'>\n",
      "RangeIndex: 50863 entries, 0 to 50862\n",
      "Data columns (total 6 columns):\n",
      " #   Column        Non-Null Count  Dtype \n",
      "---  ------        --------------  ----- \n",
      " 0   id            50863 non-null  int64 \n",
      " 1   qid1          50863 non-null  int64 \n",
      " 2   qid2          50863 non-null  int64 \n",
      " 3   question1     50863 non-null  object\n",
      " 4   question2     50863 non-null  object\n",
      " 5   is_duplicate  50863 non-null  int64 \n",
      "dtypes: int64(4), object(2)\n",
      "memory usage: 2.3+ MB\n"
     ]
    }
   ],
   "source": [
    "df.info()"
   ]
  },
  {
   "cell_type": "markdown",
   "metadata": {},
   "source": [
    "The column qid1 and qid2 is the question number, is_duplicate is the label to show if the question1 and question2 are similar. If is_duplicate equal to 1, it means question1 and question2 are similar, 0 means they are not similar."
   ]
  },
  {
   "cell_type": "markdown",
   "metadata": {},
   "source": [
    "2.2 Check for missing data."
   ]
  },
  {
   "cell_type": "code",
   "execution_count": 4,
   "metadata": {},
   "outputs": [
    {
     "name": "stdout",
     "output_type": "stream",
     "text": [
      "Empty DataFrame\n",
      "Columns: [id, qid1, qid2, question1, question2, is_duplicate]\n",
      "Index: []\n"
     ]
    }
   ],
   "source": [
    "nan_rows = df[df.isnull().any(1)]\n",
    "print (nan_rows)"
   ]
  },
  {
   "cell_type": "markdown",
   "metadata": {},
   "source": [
    "Based on the above result, there is no missing data in the dataset."
   ]
  },
  {
   "cell_type": "markdown",
   "metadata": {},
   "source": [
    "2.3 check for imbalance"
   ]
  },
  {
   "cell_type": "code",
   "execution_count": 5,
   "metadata": {},
   "outputs": [
    {
     "name": "stdout",
     "output_type": "stream",
     "text": [
      "~> Question pairs are not Similar (is_duplicate = 0):\n",
      "   62.73%\n",
      "\n",
      "~> Question pairs are Similar (is_duplicate = 1):\n",
      "   37.27%\n"
     ]
    },
    {
     "data": {
      "image/png": "[encoded data removed]",
      "text/plain": [
       "<Figure size 432x288 with 1 Axes>"
      ]
     },
     "metadata": {
      "needs_background": "light"
     },
     "output_type": "display_data"
    }
   ],
   "source": [
    "df.groupby(\"is_duplicate\")['id'].count().plot.bar()\n",
    "print('~> Question pairs are not Similar (is_duplicate = 0):\\n   {}%'.format(100 - round(df['is_duplicate'].mean()*100, 2)))\n",
    "print('\\n~> Question pairs are Similar (is_duplicate = 1):\\n   {}%'.format(round(df['is_duplicate'].mean()*100, 2)))\n"
   ]
  },
  {
   "cell_type": "markdown",
   "metadata": {},
   "source": [
    "Based on the above result, we know it is an imbalanced dataset. The imbalanced classification dataset's accuracy is misleading. The overall accuracy would be high simply because one class has a higher percentage. "
   ]
  },
  {
   "cell_type": "markdown",
   "metadata": {},
   "source": [
    "### Resampling the dataset\n",
    "Because we have over 10,000 data in the small classification, I will use under-sampling(removing samples from the majority class) to resample the dataset. This method does not add new data to the dataset.\n",
    "The reason I choose under sampling not oversampling is:\n",
    "1. I have 50863-row data, the quantity of data is sufficient.\n",
    "2. The oversampling will create duplicated data. If an element is duplicated in the training data, it has its ‘weight’ doubled. That element becomes twice as important when the classifier is fitting the data, and the classifier becomes biased towards correctly classifying that particular scenario over others."
   ]
  },
  {
   "cell_type": "code",
   "execution_count": 6,
   "metadata": {},
   "outputs": [
    {
     "name": "stdout",
     "output_type": "stream",
     "text": [
      "class 0: (31904, 6)\n",
      "class 1: (18959, 6)\n",
      "total class of 1 and 0: 0    18959\n",
      "1    18959\n",
      "Name: is_duplicate, dtype: int64\n"
     ]
    },
    {
     "data": {
      "text/plain": [
       "<AxesSubplot:title={'center':'count (target)'}>"
      ]
     },
     "execution_count": 6,
     "metadata": {},
     "output_type": "execute_result"
    },
    {
     "data": {
      "image/png": "[encoded data removed]",
      "text/plain": [
       "<Figure size 432x288 with 1 Axes>"
      ]
     },
     "metadata": {
      "needs_background": "light"
     },
     "output_type": "display_data"
    }
   ],
   "source": [
    "# class count\n",
    "class_count_0, class_count_1 = df['is_duplicate'].value_counts()\n",
    "\n",
    "# Separate class\n",
    "class_0 = df[df['is_duplicate'] == 0]\n",
    "class_1 = df[df['is_duplicate'] == 1]# print the shape of the class\n",
    "print('class 0:', class_0.shape)\n",
    "print('class 1:', class_1.shape)\n",
    "\n",
    "class_0_under = class_0.sample(class_count_1)\n",
    "\n",
    "undersampled_dataset_df = pd.concat([class_0_under, class_1], axis=0)\n",
    "\n",
    "print(\"total class of 1 and 0:\",undersampled_dataset_df['is_duplicate'].value_counts())# plot the count after under-sampeling\n",
    "undersampled_dataset_df['is_duplicate'].value_counts().plot(kind='bar', title='count (target)')"
   ]
  },
  {
   "cell_type": "code",
   "execution_count": 7,
   "metadata": {},
   "outputs": [
    {
     "data": {
      "text/html": [
       "<div>\n",
       "<style scoped>\n",
       "    .dataframe tbody tr th:only-of-type {\n",
       "        vertical-align: middle;\n",
       "    }\n",
       "\n",
       "    .dataframe tbody tr th {\n",
       "        vertical-align: top;\n",
       "    }\n",
       "\n",
       "    .dataframe thead th {\n",
       "        text-align: right;\n",
       "    }\n",
       "</style>\n",
       "<table border=\"1\" class=\"dataframe\">\n",
       "  <thead>\n",
       "    <tr style=\"text-align: right;\">\n",
       "      <th></th>\n",
       "      <th>id</th>\n",
       "      <th>qid1</th>\n",
       "      <th>qid2</th>\n",
       "      <th>question1</th>\n",
       "      <th>question2</th>\n",
       "      <th>is_duplicate</th>\n",
       "    </tr>\n",
       "  </thead>\n",
       "  <tbody>\n",
       "    <tr>\n",
       "      <th>41587</th>\n",
       "      <td>41587</td>\n",
       "      <td>75078</td>\n",
       "      <td>75079</td>\n",
       "      <td>In what ways is the Maury Show fake?</td>\n",
       "      <td>What is the best way to sell my TV show idea?</td>\n",
       "      <td>0</td>\n",
       "    </tr>\n",
       "    <tr>\n",
       "      <th>35459</th>\n",
       "      <td>35459</td>\n",
       "      <td>64798</td>\n",
       "      <td>64799</td>\n",
       "      <td>Has Modi's Pakistan Policy completely failed?</td>\n",
       "      <td>Is Pakistan afraid of Narendra Modi?</td>\n",
       "      <td>0</td>\n",
       "    </tr>\n",
       "    <tr>\n",
       "      <th>29464</th>\n",
       "      <td>29464</td>\n",
       "      <td>54512</td>\n",
       "      <td>39194</td>\n",
       "      <td>What is the difference between an electron and...</td>\n",
       "      <td>What are electrons made up of? Are all electro...</td>\n",
       "      <td>0</td>\n",
       "    </tr>\n",
       "    <tr>\n",
       "      <th>18247</th>\n",
       "      <td>18247</td>\n",
       "      <td>34580</td>\n",
       "      <td>34581</td>\n",
       "      <td>How do I start a youtube channel for cosmetics?</td>\n",
       "      <td>What's the best way to start a youtube channel?</td>\n",
       "      <td>0</td>\n",
       "    </tr>\n",
       "    <tr>\n",
       "      <th>3489</th>\n",
       "      <td>3489</td>\n",
       "      <td>6913</td>\n",
       "      <td>6914</td>\n",
       "      <td>What is living in Libya like for now?</td>\n",
       "      <td>What is it like to live in Libya?</td>\n",
       "      <td>0</td>\n",
       "    </tr>\n",
       "  </tbody>\n",
       "</table>\n",
       "</div>"
      ],
      "text/plain": [
       "          id   qid1   qid2                                          question1  \\\n",
       "41587  41587  75078  75079               In what ways is the Maury Show fake?   \n",
       "35459  35459  64798  64799      Has Modi's Pakistan Policy completely failed?   \n",
       "29464  29464  54512  39194  What is the difference between an electron and...   \n",
       "18247  18247  34580  34581    How do I start a youtube channel for cosmetics?   \n",
       "3489    3489   6913   6914              What is living in Libya like for now?   \n",
       "\n",
       "                                               question2  is_duplicate  \n",
       "41587      What is the best way to sell my TV show idea?             0  \n",
       "35459               Is Pakistan afraid of Narendra Modi?             0  \n",
       "29464  What are electrons made up of? Are all electro...             0  \n",
       "18247    What's the best way to start a youtube channel?             0  \n",
       "3489                   What is it like to live in Libya?             0  "
      ]
     },
     "execution_count": 7,
     "metadata": {},
     "output_type": "execute_result"
    }
   ],
   "source": [
    "df_b=undersampled_dataset_df\n",
    "df_b.head()"
   ]
  },
  {
   "cell_type": "markdown",
   "metadata": {},
   "source": [
    "## 3, Data Cleaning\n",
    "\n",
    "I will clean the data using the following steps:\n",
    "- Transform text to lower case\n",
    "- Remove punctuation\n",
    "- Word tokenization\n",
    "- Remove stopwords\n",
    "- Stemming\n",
    "- Rejoining"
   ]
  },
  {
   "cell_type": "code",
   "execution_count": 9,
   "metadata": {},
   "outputs": [
    {
     "data": {
      "text/html": [
       "<div>\n",
       "<style scoped>\n",
       "    .dataframe tbody tr th:only-of-type {\n",
       "        vertical-align: middle;\n",
       "    }\n",
       "\n",
       "    .dataframe tbody tr th {\n",
       "        vertical-align: top;\n",
       "    }\n",
       "\n",
       "    .dataframe thead th {\n",
       "        text-align: right;\n",
       "    }\n",
       "</style>\n",
       "<table border=\"1\" class=\"dataframe\">\n",
       "  <thead>\n",
       "    <tr style=\"text-align: right;\">\n",
       "      <th></th>\n",
       "      <th>id</th>\n",
       "      <th>qid1</th>\n",
       "      <th>qid2</th>\n",
       "      <th>question1</th>\n",
       "      <th>question2</th>\n",
       "      <th>is_duplicate</th>\n",
       "    </tr>\n",
       "  </thead>\n",
       "  <tbody>\n",
       "    <tr>\n",
       "      <th>41587</th>\n",
       "      <td>41587</td>\n",
       "      <td>75078</td>\n",
       "      <td>75079</td>\n",
       "      <td>way mauri show fake</td>\n",
       "      <td>best way sell tv show idea</td>\n",
       "      <td>0</td>\n",
       "    </tr>\n",
       "    <tr>\n",
       "      <th>35459</th>\n",
       "      <td>35459</td>\n",
       "      <td>64798</td>\n",
       "      <td>64799</td>\n",
       "      <td>modi pakistan polici complet fail</td>\n",
       "      <td>pakistan afraid narendra modi</td>\n",
       "      <td>0</td>\n",
       "    </tr>\n",
       "    <tr>\n",
       "      <th>29464</th>\n",
       "      <td>29464</td>\n",
       "      <td>54512</td>\n",
       "      <td>39194</td>\n",
       "      <td>differ electron beta particl</td>\n",
       "      <td>electron made electron made materi</td>\n",
       "      <td>0</td>\n",
       "    </tr>\n",
       "    <tr>\n",
       "      <th>18247</th>\n",
       "      <td>18247</td>\n",
       "      <td>34580</td>\n",
       "      <td>34581</td>\n",
       "      <td>start youtub channel cosmet</td>\n",
       "      <td>best way start youtub channel</td>\n",
       "      <td>0</td>\n",
       "    </tr>\n",
       "    <tr>\n",
       "      <th>3489</th>\n",
       "      <td>3489</td>\n",
       "      <td>6913</td>\n",
       "      <td>6914</td>\n",
       "      <td>live libya like</td>\n",
       "      <td>like live libya</td>\n",
       "      <td>0</td>\n",
       "    </tr>\n",
       "  </tbody>\n",
       "</table>\n",
       "</div>"
      ],
      "text/plain": [
       "          id   qid1   qid2                          question1  \\\n",
       "41587  41587  75078  75079                way mauri show fake   \n",
       "35459  35459  64798  64799  modi pakistan polici complet fail   \n",
       "29464  29464  54512  39194       differ electron beta particl   \n",
       "18247  18247  34580  34581        start youtub channel cosmet   \n",
       "3489    3489   6913   6914                    live libya like   \n",
       "\n",
       "                                question2  is_duplicate  \n",
       "41587          best way sell tv show idea             0  \n",
       "35459       pakistan afraid narendra modi             0  \n",
       "29464  electron made electron made materi             0  \n",
       "18247       best way start youtub channel             0  \n",
       "3489                      like live libya             0  "
      ]
     },
     "execution_count": 9,
     "metadata": {},
     "output_type": "execute_result"
    }
   ],
   "source": [
    "import nltk\n",
    "from nltk.corpus import stopwords\n",
    "from nltk.stem.porter import PorterStemmer \n",
    "\n",
    "#Transform text to lower case\n",
    "df_b_l=df_b\n",
    "df_b_l['question1']=df_b['question1'].astype(str).str.lower()\n",
    "df_b_l['question2']=df_b['question2'].astype(str).str.lower()\n",
    "\n",
    "# Remove punctuation\n",
    "df_b_l[\"question2\"] = df_b_l['question2'].str.replace('[^\\w\\s]','', regex=True)\n",
    "df_b_l[\"question1\"] = df_b_l['question1'].str.replace('[^\\w\\s]','', regex=True)\n",
    "\n",
    "# Word tokenization\n",
    "def tokenize(column):\n",
    "    tokens = nltk.word_tokenize(column)\n",
    "    return [w for w in tokens if w.isalpha()] \n",
    "df_b_l['question1'] = df_b_l.apply(lambda x: tokenize(x['question1']), axis=1)\n",
    "df_b_l['question2'] = df_b_l.apply(lambda x: tokenize(x['question2']), axis=1)\n",
    "\n",
    "# Remove stopwords\n",
    "def remove_stopwords(text):\n",
    "    words=[w for w in text if w not in stopwords.words('english')]\n",
    "    return words\n",
    "\n",
    "df_b_l['question1']=df_b_l['question1'].apply(lambda x: remove_stopwords(x))\n",
    "df_b_l['question2']=df_b_l['question2'].apply(lambda x: remove_stopwords(x))\n",
    "\n",
    "# Stemming\n",
    "def apply_stemming(tokenized_column):\n",
    "    stemmer = PorterStemmer() \n",
    "    return [stemmer.stem(word) for word in tokenized_column]\n",
    "df_b_l['question1'] = df_b_l['question1'].apply(lambda x: apply_stemming(x))\n",
    "df_b_l['question2'] = df_b_l['question2'].apply(lambda x: apply_stemming(x))\n",
    "\n",
    "# Rejoining\n",
    "def rejoin_words(tokenized_column):\n",
    "    return ( \" \".join(tokenized_column))\n",
    "\n",
    "df_b_l['question1'] = df_b_l['question1'].apply(lambda x: rejoin_words(x))\n",
    "df_b_l['question2'] = df_b_l['question2'].apply(lambda x: rejoin_words(x))\n",
    "\n",
    "df_b_l.to_csv('dataclean.csv',index=False)\n",
    "df_b_l.head()"
   ]
  },
  {
   "cell_type": "markdown",
   "metadata": {},
   "source": [
    "## 4, Feature Engineering\n",
    "I will use the following features:<br>\n",
    "q1len = Length of question1<br>\n",
    "q2len = Length of question2<br>\n",
    "q1_n_words = Number of words in Question 1<br>\n",
    "q2_n_words = Number of words in Question 2<br>\n",
    "word_Common = (Number of common unique words in Question 1 and Question 2)<br>\n",
    "word_Unique =(Total num of unique words in Question 1 and Question 2)<br>\n",
    "jaccard index = (word_common)/(word_Unique)<br>\n",
    "I believe similar questions will have similar length, similar number of words, and high Jaccard Index, so I create these features."
   ]
  },
  {
   "cell_type": "code",
   "execution_count": 10,
   "metadata": {},
   "outputs": [
    {
     "data": {
      "text/html": [
       "<div>\n",
       "<style scoped>\n",
       "    .dataframe tbody tr th:only-of-type {\n",
       "        vertical-align: middle;\n",
       "    }\n",
       "\n",
       "    .dataframe tbody tr th {\n",
       "        vertical-align: top;\n",
       "    }\n",
       "\n",
       "    .dataframe thead th {\n",
       "        text-align: right;\n",
       "    }\n",
       "</style>\n",
       "<table border=\"1\" class=\"dataframe\">\n",
       "  <thead>\n",
       "    <tr style=\"text-align: right;\">\n",
       "      <th></th>\n",
       "      <th>id</th>\n",
       "      <th>qid1</th>\n",
       "      <th>qid2</th>\n",
       "      <th>question1</th>\n",
       "      <th>question2</th>\n",
       "      <th>is_duplicate</th>\n",
       "      <th>q1len</th>\n",
       "      <th>q2len</th>\n",
       "      <th>q1_n_words</th>\n",
       "      <th>q2_n_words</th>\n",
       "      <th>word_Common</th>\n",
       "      <th>word_unique</th>\n",
       "      <th>jaccard_index</th>\n",
       "    </tr>\n",
       "  </thead>\n",
       "  <tbody>\n",
       "    <tr>\n",
       "      <th>0</th>\n",
       "      <td>41587</td>\n",
       "      <td>75078</td>\n",
       "      <td>75079</td>\n",
       "      <td>way mauri show fake</td>\n",
       "      <td>best way sell tv show idea</td>\n",
       "      <td>0</td>\n",
       "      <td>19.0</td>\n",
       "      <td>26.0</td>\n",
       "      <td>4</td>\n",
       "      <td>6</td>\n",
       "      <td>2.0</td>\n",
       "      <td>8.0</td>\n",
       "      <td>0.250000</td>\n",
       "    </tr>\n",
       "    <tr>\n",
       "      <th>1</th>\n",
       "      <td>35459</td>\n",
       "      <td>64798</td>\n",
       "      <td>64799</td>\n",
       "      <td>modi pakistan polici complet fail</td>\n",
       "      <td>pakistan afraid narendra modi</td>\n",
       "      <td>0</td>\n",
       "      <td>33.0</td>\n",
       "      <td>29.0</td>\n",
       "      <td>5</td>\n",
       "      <td>4</td>\n",
       "      <td>2.0</td>\n",
       "      <td>7.0</td>\n",
       "      <td>0.285714</td>\n",
       "    </tr>\n",
       "    <tr>\n",
       "      <th>2</th>\n",
       "      <td>29464</td>\n",
       "      <td>54512</td>\n",
       "      <td>39194</td>\n",
       "      <td>differ electron beta particl</td>\n",
       "      <td>electron made electron made materi</td>\n",
       "      <td>0</td>\n",
       "      <td>28.0</td>\n",
       "      <td>34.0</td>\n",
       "      <td>4</td>\n",
       "      <td>5</td>\n",
       "      <td>1.0</td>\n",
       "      <td>6.0</td>\n",
       "      <td>0.166667</td>\n",
       "    </tr>\n",
       "    <tr>\n",
       "      <th>3</th>\n",
       "      <td>18247</td>\n",
       "      <td>34580</td>\n",
       "      <td>34581</td>\n",
       "      <td>start youtub channel cosmet</td>\n",
       "      <td>best way start youtub channel</td>\n",
       "      <td>0</td>\n",
       "      <td>27.0</td>\n",
       "      <td>29.0</td>\n",
       "      <td>4</td>\n",
       "      <td>5</td>\n",
       "      <td>3.0</td>\n",
       "      <td>6.0</td>\n",
       "      <td>0.500000</td>\n",
       "    </tr>\n",
       "    <tr>\n",
       "      <th>4</th>\n",
       "      <td>3489</td>\n",
       "      <td>6913</td>\n",
       "      <td>6914</td>\n",
       "      <td>live libya like</td>\n",
       "      <td>like live libya</td>\n",
       "      <td>0</td>\n",
       "      <td>15.0</td>\n",
       "      <td>15.0</td>\n",
       "      <td>3</td>\n",
       "      <td>3</td>\n",
       "      <td>3.0</td>\n",
       "      <td>3.0</td>\n",
       "      <td>1.000000</td>\n",
       "    </tr>\n",
       "  </tbody>\n",
       "</table>\n",
       "</div>"
      ],
      "text/plain": [
       "      id   qid1   qid2                          question1  \\\n",
       "0  41587  75078  75079                way mauri show fake   \n",
       "1  35459  64798  64799  modi pakistan polici complet fail   \n",
       "2  29464  54512  39194       differ electron beta particl   \n",
       "3  18247  34580  34581        start youtub channel cosmet   \n",
       "4   3489   6913   6914                    live libya like   \n",
       "\n",
       "                            question2  is_duplicate  q1len  q2len  q1_n_words  \\\n",
       "0          best way sell tv show idea             0   19.0   26.0           4   \n",
       "1       pakistan afraid narendra modi             0   33.0   29.0           5   \n",
       "2  electron made electron made materi             0   28.0   34.0           4   \n",
       "3       best way start youtub channel             0   27.0   29.0           4   \n",
       "4                     like live libya             0   15.0   15.0           3   \n",
       "\n",
       "   q2_n_words  word_Common  word_unique  jaccard_index  \n",
       "0           6          2.0          8.0       0.250000  \n",
       "1           4          2.0          7.0       0.285714  \n",
       "2           5          1.0          6.0       0.166667  \n",
       "3           5          3.0          6.0       0.500000  \n",
       "4           3          3.0          3.0       1.000000  "
      ]
     },
     "execution_count": 10,
     "metadata": {},
     "output_type": "execute_result"
    }
   ],
   "source": [
    "df_b_l_f = pd.read_csv(\"dataclean.csv\")\n",
    "\n",
    "#  I calculate q1len and q2len\n",
    "df_b_l_f['q1len'] = df_b_l_f['question1'].str.len() \n",
    "df_b_l_f['q2len'] = df_b_l_f['question2'].str.len()\n",
    "\n",
    "#  I calculate q1_n_words and q2_n_words\n",
    "df_b_l_f['q1_n_words'] = df_b_l_f['question1'].apply(lambda row: len(str(row).split(\" \")))\n",
    "df_b_l_f['q2_n_words'] = df_b_l_f['question2'].apply(lambda row: len(str(row).split(\" \")))\n",
    "\n",
    "#  I calculate word_Common\n",
    "def normalized_word_Common(row):\n",
    "        w1 = set(map(lambda word: word.lower().strip(), str(row['question1']).split(\" \")))\n",
    "        w2 = set(map(lambda word: word.lower().strip(), str(row['question2']).split(\" \")))    \n",
    "        return 1.0 * len(w1 & w2)\n",
    "df_b_l_f['word_Common'] = df_b_l_f.apply(normalized_word_Common, axis=1)\n",
    "\n",
    "#  I calculate word_unique\n",
    "def normalized_word_Common(row):\n",
    "        w1 = set(map(lambda word: word.lower().strip(), str(row['question1']).split(\" \")))\n",
    "        w2 = set(map(lambda word: word.lower().strip(), str(row['question2']).split(\" \")))    \n",
    "        return 1.0 * len(set(w1 | w2))\n",
    "df_b_l_f['word_unique'] = df_b_l_f.apply(normalized_word_Common, axis=1)\n",
    "\n",
    "#  I calculate jaccard index\n",
    "def normalized_word_share(row):\n",
    "        w1 = set(map(lambda word: word.lower().strip(), str(row['question1']).split(\" \")))\n",
    "        w2 = set(map(lambda word: word.lower().strip(), str(row['question2']).split(\" \")))    \n",
    "        return 1.0 * len(w1 & w2)/len(set(w1 | w2))\n",
    "df_b_l_f['jaccard_index'] = df_b_l_f.apply(normalized_word_share, axis=1)\n",
    "\n",
    "df_b_l_f.to_csv(\"clean_feature.csv\", index=False)\n",
    "df_b_l_f.head()"
   ]
  },
  {
   "cell_type": "markdown",
   "metadata": {},
   "source": [
    "I calculate the feature correlations"
   ]
  },
  {
   "cell_type": "code",
   "execution_count": 11,
   "metadata": {},
   "outputs": [
    {
     "data": {
      "text/html": [
       "<div>\n",
       "<style scoped>\n",
       "    .dataframe tbody tr th:only-of-type {\n",
       "        vertical-align: middle;\n",
       "    }\n",
       "\n",
       "    .dataframe tbody tr th {\n",
       "        vertical-align: top;\n",
       "    }\n",
       "\n",
       "    .dataframe thead th {\n",
       "        text-align: right;\n",
       "    }\n",
       "</style>\n",
       "<table border=\"1\" class=\"dataframe\">\n",
       "  <thead>\n",
       "    <tr style=\"text-align: right;\">\n",
       "      <th></th>\n",
       "      <th>id</th>\n",
       "      <th>qid1</th>\n",
       "      <th>qid2</th>\n",
       "      <th>is_duplicate</th>\n",
       "      <th>q1len</th>\n",
       "      <th>q2len</th>\n",
       "      <th>q1_n_words</th>\n",
       "      <th>q2_n_words</th>\n",
       "      <th>word_Common</th>\n",
       "      <th>word_unique</th>\n",
       "      <th>jaccard_index</th>\n",
       "    </tr>\n",
       "  </thead>\n",
       "  <tbody>\n",
       "    <tr>\n",
       "      <th>id</th>\n",
       "      <td>1.000000</td>\n",
       "      <td>0.854736</td>\n",
       "      <td>0.857866</td>\n",
       "      <td>0.000588</td>\n",
       "      <td>-0.001042</td>\n",
       "      <td>0.004600</td>\n",
       "      <td>-0.003251</td>\n",
       "      <td>0.004096</td>\n",
       "      <td>0.005182</td>\n",
       "      <td>-0.001225</td>\n",
       "      <td>0.000959</td>\n",
       "    </tr>\n",
       "    <tr>\n",
       "      <th>qid1</th>\n",
       "      <td>0.854736</td>\n",
       "      <td>1.000000</td>\n",
       "      <td>0.836841</td>\n",
       "      <td>-0.110332</td>\n",
       "      <td>0.012008</td>\n",
       "      <td>0.009126</td>\n",
       "      <td>0.008386</td>\n",
       "      <td>0.008597</td>\n",
       "      <td>-0.021280</td>\n",
       "      <td>0.018392</td>\n",
       "      <td>-0.010246</td>\n",
       "    </tr>\n",
       "    <tr>\n",
       "      <th>qid2</th>\n",
       "      <td>0.857866</td>\n",
       "      <td>0.836841</td>\n",
       "      <td>1.000000</td>\n",
       "      <td>-0.107486</td>\n",
       "      <td>0.011779</td>\n",
       "      <td>0.020611</td>\n",
       "      <td>0.008602</td>\n",
       "      <td>0.020082</td>\n",
       "      <td>-0.017973</td>\n",
       "      <td>0.024420</td>\n",
       "      <td>-0.010323</td>\n",
       "    </tr>\n",
       "    <tr>\n",
       "      <th>is_duplicate</th>\n",
       "      <td>0.000588</td>\n",
       "      <td>-0.110332</td>\n",
       "      <td>-0.107486</td>\n",
       "      <td>1.000000</td>\n",
       "      <td>-0.197200</td>\n",
       "      <td>-0.182261</td>\n",
       "      <td>-0.187540</td>\n",
       "      <td>-0.183527</td>\n",
       "      <td>0.248073</td>\n",
       "      <td>-0.322037</td>\n",
       "      <td>0.407500</td>\n",
       "    </tr>\n",
       "    <tr>\n",
       "      <th>q1len</th>\n",
       "      <td>-0.001042</td>\n",
       "      <td>0.012008</td>\n",
       "      <td>0.011779</td>\n",
       "      <td>-0.197200</td>\n",
       "      <td>1.000000</td>\n",
       "      <td>0.532703</td>\n",
       "      <td>0.965658</td>\n",
       "      <td>0.509486</td>\n",
       "      <td>0.344606</td>\n",
       "      <td>0.772397</td>\n",
       "      <td>-0.307836</td>\n",
       "    </tr>\n",
       "    <tr>\n",
       "      <th>q2len</th>\n",
       "      <td>0.004600</td>\n",
       "      <td>0.009126</td>\n",
       "      <td>0.020611</td>\n",
       "      <td>-0.182261</td>\n",
       "      <td>0.532703</td>\n",
       "      <td>1.000000</td>\n",
       "      <td>0.515476</td>\n",
       "      <td>0.970910</td>\n",
       "      <td>0.331064</td>\n",
       "      <td>0.803381</td>\n",
       "      <td>-0.297964</td>\n",
       "    </tr>\n",
       "    <tr>\n",
       "      <th>q1_n_words</th>\n",
       "      <td>-0.003251</td>\n",
       "      <td>0.008386</td>\n",
       "      <td>0.008602</td>\n",
       "      <td>-0.187540</td>\n",
       "      <td>0.965658</td>\n",
       "      <td>0.515476</td>\n",
       "      <td>1.000000</td>\n",
       "      <td>0.526389</td>\n",
       "      <td>0.359571</td>\n",
       "      <td>0.797807</td>\n",
       "      <td>-0.311340</td>\n",
       "    </tr>\n",
       "    <tr>\n",
       "      <th>q2_n_words</th>\n",
       "      <td>0.004096</td>\n",
       "      <td>0.008597</td>\n",
       "      <td>0.020082</td>\n",
       "      <td>-0.183527</td>\n",
       "      <td>0.509486</td>\n",
       "      <td>0.970910</td>\n",
       "      <td>0.526389</td>\n",
       "      <td>1.000000</td>\n",
       "      <td>0.333049</td>\n",
       "      <td>0.826549</td>\n",
       "      <td>-0.307664</td>\n",
       "    </tr>\n",
       "    <tr>\n",
       "      <th>word_Common</th>\n",
       "      <td>0.005182</td>\n",
       "      <td>-0.021280</td>\n",
       "      <td>-0.017973</td>\n",
       "      <td>0.248073</td>\n",
       "      <td>0.344606</td>\n",
       "      <td>0.331064</td>\n",
       "      <td>0.359571</td>\n",
       "      <td>0.333049</td>\n",
       "      <td>1.000000</td>\n",
       "      <td>0.071826</td>\n",
       "      <td>0.559936</td>\n",
       "    </tr>\n",
       "    <tr>\n",
       "      <th>word_unique</th>\n",
       "      <td>-0.001225</td>\n",
       "      <td>0.018392</td>\n",
       "      <td>0.024420</td>\n",
       "      <td>-0.322037</td>\n",
       "      <td>0.772397</td>\n",
       "      <td>0.803381</td>\n",
       "      <td>0.797807</td>\n",
       "      <td>0.826549</td>\n",
       "      <td>0.071826</td>\n",
       "      <td>1.000000</td>\n",
       "      <td>-0.602886</td>\n",
       "    </tr>\n",
       "    <tr>\n",
       "      <th>jaccard_index</th>\n",
       "      <td>0.000959</td>\n",
       "      <td>-0.010246</td>\n",
       "      <td>-0.010323</td>\n",
       "      <td>0.407500</td>\n",
       "      <td>-0.307836</td>\n",
       "      <td>-0.297964</td>\n",
       "      <td>-0.311340</td>\n",
       "      <td>-0.307664</td>\n",
       "      <td>0.559936</td>\n",
       "      <td>-0.602886</td>\n",
       "      <td>1.000000</td>\n",
       "    </tr>\n",
       "  </tbody>\n",
       "</table>\n",
       "</div>"
      ],
      "text/plain": [
       "                     id      qid1      qid2  is_duplicate     q1len     q2len  \\\n",
       "id             1.000000  0.854736  0.857866      0.000588 -0.001042  0.004600   \n",
       "qid1           0.854736  1.000000  0.836841     -0.110332  0.012008  0.009126   \n",
       "qid2           0.857866  0.836841  1.000000     -0.107486  0.011779  0.020611   \n",
       "is_duplicate   0.000588 -0.110332 -0.107486      1.000000 -0.197200 -0.182261   \n",
       "q1len         -0.001042  0.012008  0.011779     -0.197200  1.000000  0.532703   \n",
       "q2len          0.004600  0.009126  0.020611     -0.182261  0.532703  1.000000   \n",
       "q1_n_words    -0.003251  0.008386  0.008602     -0.187540  0.965658  0.515476   \n",
       "q2_n_words     0.004096  0.008597  0.020082     -0.183527  0.509486  0.970910   \n",
       "word_Common    0.005182 -0.021280 -0.017973      0.248073  0.344606  0.331064   \n",
       "word_unique   -0.001225  0.018392  0.024420     -0.322037  0.772397  0.803381   \n",
       "jaccard_index  0.000959 -0.010246 -0.010323      0.407500 -0.307836 -0.297964   \n",
       "\n",
       "               q1_n_words  q2_n_words  word_Common  word_unique  jaccard_index  \n",
       "id              -0.003251    0.004096     0.005182    -0.001225       0.000959  \n",
       "qid1             0.008386    0.008597    -0.021280     0.018392      -0.010246  \n",
       "qid2             0.008602    0.020082    -0.017973     0.024420      -0.010323  \n",
       "is_duplicate    -0.187540   -0.183527     0.248073    -0.322037       0.407500  \n",
       "q1len            0.965658    0.509486     0.344606     0.772397      -0.307836  \n",
       "q2len            0.515476    0.970910     0.331064     0.803381      -0.297964  \n",
       "q1_n_words       1.000000    0.526389     0.359571     0.797807      -0.311340  \n",
       "q2_n_words       0.526389    1.000000     0.333049     0.826549      -0.307664  \n",
       "word_Common      0.359571    0.333049     1.000000     0.071826       0.559936  \n",
       "word_unique      0.797807    0.826549     0.071826     1.000000      -0.602886  \n",
       "jaccard_index   -0.311340   -0.307664     0.559936    -0.602886       1.000000  "
      ]
     },
     "execution_count": 11,
     "metadata": {},
     "output_type": "execute_result"
    }
   ],
   "source": [
    "df_b_l_f.corr()"
   ]
  },
  {
   "cell_type": "markdown",
   "metadata": {},
   "source": [
    "Based on the above data, I know jaccard index has a strong positive correlation to word_common, and a strong negative to word_unique. Work_unique has a strong correlation to q1len, q2len,qu_n_words and q2_n_words."
   ]
  },
  {
   "cell_type": "markdown",
   "metadata": {},
   "source": [
    "## 5, Modeling\n",
    "When user input a question, the user will hope to get the reply if there were already similar questions in very short time. This will demand the model calculate fast. I will also calculate the feature importance, so I choose to use decision tree model."
   ]
  },
  {
   "cell_type": "code",
   "execution_count": 35,
   "metadata": {},
   "outputs": [],
   "source": [
    "from sklearn.model_selection import train_test_split\n",
    "from sklearn.metrics import accuracy_score\n",
    "from sklearn.model_selection import GridSearchCV\n",
    "\n",
    "df_b_l_f = pd.read_csv(\"clean_feature.csv\")\n",
    "\n",
    "df_b_l_f=df_b_l_f.dropna()\n",
    "\n",
    "y=df_b_l_f['is_duplicate']\n",
    "X=df_b_l_f.drop(['is_duplicate', 'question1','question2','qid1','qid2','id'], axis = 1)\n",
    "\n",
    "# split the dataset to training dataset and test dataset\n",
    "x_train,x_cv,y_train,y_cv=train_test_split(X,y,test_size=0.2,random_state=1)\n"
   ]
  },
  {
   "cell_type": "code",
   "execution_count": 34,
   "metadata": {},
   "outputs": [
    {
     "name": "stdout",
     "output_type": "stream",
     "text": [
      "Fitting 3 folds for each of 15 candidates, totalling 45 fits\n",
      "Train Accuracy : 0.704\n",
      "Test Accuracy : 0.697\n",
      "Best Score Through Grid Search : 0.701\n",
      "Best Parameters :  {'max_depth': 5}\n"
     ]
    }
   ],
   "source": [
    "from sklearn.tree import DecisionTreeClassifier\n",
    "n_features = X.shape[1]\n",
    "n_samples = X.shape[0]\n",
    "\n",
    "grid = GridSearchCV(DecisionTreeClassifier(random_state=1), cv=3, n_jobs=-1, verbose=5,\n",
    "                    param_grid ={'max_depth': [None,1,3,4,5,6,7,8,9,10,12,15,20,30,40]\n",
    "                                         },\n",
    "                    )\n",
    "\n",
    "grid.fit(x_train, y_train)\n",
    "\n",
    "print('Train Accuracy : %.3f'%grid.best_estimator_.score(x_train, y_train))\n",
    "print('Test Accuracy : %.3f'%grid.best_estimator_.score(x_cv,y_cv))\n",
    "print('Best Score Through Grid Search : %.3f'%grid.best_score_)\n",
    "print('Best Parameters : ',grid.best_params_)"
   ]
  },
  {
   "cell_type": "markdown",
   "metadata": {},
   "source": [
    "I check the model overfitting"
   ]
  },
  {
   "cell_type": "code",
   "execution_count": 36,
   "metadata": {},
   "outputs": [
    {
     "data": {
      "image/png": "[encoded data removed]",
      "text/plain": [
       "<Figure size 432x288 with 1 Axes>"
      ]
     },
     "metadata": {
      "needs_background": "light"
     },
     "output_type": "display_data"
    }
   ],
   "source": [
    "import matplotlib.pyplot as plt\n",
    "from sklearn.tree import DecisionTreeClassifier\n",
    "dt_height = []\n",
    "training_errs = []\n",
    "testing_errs = []\n",
    "\n",
    "\n",
    "df = pd.DataFrame(columns=['max_depth', 'accuracy_score_train', 'accuracy_score_test'])\n",
    "for itera in range(15):\n",
    "    \n",
    "    rf = DecisionTreeClassifier(max_depth = (itera+1))\n",
    "    rf.fit(x_train,y_train)\n",
    "    y_train_predicted = rf.predict(x_train)\n",
    "    y_test_predicted = rf.predict(x_cv)\n",
    "    accuracy_score_train =accuracy_score(y_train, y_train_predicted)\n",
    "    accuracy_score_test = accuracy_score(y_cv, y_test_predicted)\n",
    "\n",
    "    dt_height.append(itera+1)\n",
    "    training_errs.append(accuracy_score_train)\n",
    "    testing_errs.append(accuracy_score_test)\n",
    "    \n",
    "\n",
    "plt.plot(dt_height, training_errs, label=\"accuracy_score_train\")\n",
    "plt.plot(dt_height, testing_errs, label=\"accuracy_score_test\")\n",
    "\n",
    "plt.xlabel(\"max_depth\")\n",
    "plt.ylabel(\"accuracy_score\")\n",
    "plt.grid(which='major', axis='both')\n",
    "\n",
    "plt.legend()\n",
    "plt.show()"
   ]
  },
  {
   "cell_type": "markdown",
   "metadata": {},
   "source": [
    "When the max_depth is over 11, the test data accuracy begin to decrease."
   ]
  },
  {
   "cell_type": "markdown",
   "metadata": {},
   "source": [
    "### Feature importance based on Decision Tree "
   ]
  },
  {
   "cell_type": "code",
   "execution_count": 37,
   "metadata": {},
   "outputs": [
    {
     "data": {
      "text/plain": [
       "<AxesSubplot:>"
      ]
     },
     "execution_count": 37,
     "metadata": {},
     "output_type": "execute_result"
    },
    {
     "data": {
      "image/png": "[encoded data removed]",
      "text/plain": [
       "<Figure size 864x576 with 1 Axes>"
      ]
     },
     "metadata": {
      "needs_background": "light"
     },
     "output_type": "display_data"
    }
   ],
   "source": [
    "DecisionTree_model = DecisionTreeClassifier(random_state=1,max_depth=8)\n",
    "DecisionTree_model.fit(x_train,y_train)\n",
    "importances = pd.Series(DecisionTree_model.feature_importances_,index=X.columns)\n",
    "importances.plot(kind='barh', figsize=(12,8))"
   ]
  },
  {
   "cell_type": "markdown",
   "metadata": {},
   "source": [
    "Based on the above chart, we know jaccard index is the most important feature."
   ]
  },
  {
   "cell_type": "markdown",
   "metadata": {},
   "source": [
    "### Feature importance based on feature permutation"
   ]
  },
  {
   "cell_type": "code",
   "execution_count": 38,
   "metadata": {},
   "outputs": [
    {
     "data": {
      "image/png": "[encoded data removed]",
      "text/plain": [
       "<Figure size 432x288 with 1 Axes>"
      ]
     },
     "metadata": {
      "needs_background": "light"
     },
     "output_type": "display_data"
    }
   ],
   "source": [
    "from sklearn.inspection import permutation_importance\n",
    "from sklearn.tree import DecisionTreeClassifier\n",
    "import matplotlib.pyplot as plt\n",
    "\n",
    "model = DecisionTreeClassifier(random_state=1,max_depth=8)\n",
    "model.fit(x_train,y_train)\n",
    "\n",
    "result = permutation_importance(\n",
    "    model, x_train, y_train, n_repeats=10, random_state=42, n_jobs=2\n",
    ")\n",
    "sorted_idx = result.importances_mean.argsort()\n",
    "\n",
    "fig, ax = plt.subplots()\n",
    "ax.boxplot(\n",
    "    result.importances[sorted_idx].T, vert=False, labels=x_train.columns[sorted_idx]\n",
    ")\n",
    "ax.set_title(\"Permutation Importances (train set)\")\n",
    "fig.tight_layout()\n",
    "plt.show()"
   ]
  },
  {
   "cell_type": "markdown",
   "metadata": {},
   "source": [
    "Based on the above chart, we know jaccard index is the most important feature. The conclusion is same with decision tree feature importance."
   ]
  },
  {
   "cell_type": "markdown",
   "metadata": {},
   "source": [
    "### save the model to file"
   ]
  },
  {
   "cell_type": "code",
   "execution_count": 39,
   "metadata": {},
   "outputs": [],
   "source": [
    "import pickle\n",
    "# save the model to disk\n",
    "filename = 'finalized_model.sav'\n",
    "model=grid\n",
    "pickle.dump(model, open(filename, 'wb'))"
   ]
  },
  {
   "cell_type": "code",
   "execution_count": 40,
   "metadata": {},
   "outputs": [
    {
     "name": "stdout",
     "output_type": "stream",
     "text": [
      "0.6972016895459345\n"
     ]
    }
   ],
   "source": [
    "# load the model from disk\n",
    "filename = 'finalized_model.sav'\n",
    "loaded_model = pickle.load(open(filename, 'rb'))\n",
    "result = loaded_model.score(x_cv, y_cv)\n",
    "print(result)"
   ]
  },
  {
   "cell_type": "markdown",
   "metadata": {},
   "source": [
    "## 6, find the same question"
   ]
  },
  {
   "cell_type": "markdown",
   "metadata": {},
   "source": [
    "Create a unique questions dataframe"
   ]
  },
  {
   "cell_type": "code",
   "execution_count": 41,
   "metadata": {},
   "outputs": [
    {
     "data": {
      "text/html": [
       "<div>\n",
       "<style scoped>\n",
       "    .dataframe tbody tr th:only-of-type {\n",
       "        vertical-align: middle;\n",
       "    }\n",
       "\n",
       "    .dataframe tbody tr th {\n",
       "        vertical-align: top;\n",
       "    }\n",
       "\n",
       "    .dataframe thead th {\n",
       "        text-align: right;\n",
       "    }\n",
       "</style>\n",
       "<table border=\"1\" class=\"dataframe\">\n",
       "  <thead>\n",
       "    <tr style=\"text-align: right;\">\n",
       "      <th></th>\n",
       "      <th>question</th>\n",
       "    </tr>\n",
       "  </thead>\n",
       "  <tbody>\n",
       "    <tr>\n",
       "      <th>0</th>\n",
       "      <td>What is the step by step guide to invest in sh...</td>\n",
       "    </tr>\n",
       "    <tr>\n",
       "      <th>1</th>\n",
       "      <td>What is the story of Kohinoor (Koh-i-Noor) Dia...</td>\n",
       "    </tr>\n",
       "    <tr>\n",
       "      <th>2</th>\n",
       "      <td>How can I increase the speed of my internet co...</td>\n",
       "    </tr>\n",
       "    <tr>\n",
       "      <th>3</th>\n",
       "      <td>Why am I mentally very lonely? How can I solve...</td>\n",
       "    </tr>\n",
       "    <tr>\n",
       "      <th>4</th>\n",
       "      <td>Which one dissolve in water quikly sugar, salt...</td>\n",
       "    </tr>\n",
       "  </tbody>\n",
       "</table>\n",
       "</div>"
      ],
      "text/plain": [
       "                                            question\n",
       "0  What is the step by step guide to invest in sh...\n",
       "1  What is the story of Kohinoor (Koh-i-Noor) Dia...\n",
       "2  How can I increase the speed of my internet co...\n",
       "3  Why am I mentally very lonely? How can I solve...\n",
       "4  Which one dissolve in water quikly sugar, salt..."
      ]
     },
     "execution_count": 41,
     "metadata": {},
     "output_type": "execute_result"
    }
   ],
   "source": [
    "import pandas as pd\n",
    "df = pd.read_csv(\"train.csv\", encoding='cp1252')\n",
    "df = df.loc[:, ~df.columns.str.contains('^Unnamed')]\n",
    "questions = pd.Series(df['question1'].tolist() + df['question2'].tolist())\n",
    "unique_questions=questions.unique()\n",
    "df_one = pd.DataFrame(unique_questions, columns = ['question'])\n",
    "df_one.head()"
   ]
  },
  {
   "cell_type": "markdown",
   "metadata": {},
   "source": [
    "I will define the same question based on a broad criteria. If after changing lower case, removing punctuation, tokenization, removing stop words and stems, two questions are same, I will define they are same questions."
   ]
  },
  {
   "cell_type": "code",
   "execution_count": 33,
   "metadata": {},
   "outputs": [
    {
     "data": {
      "text/html": [
       "<div>\n",
       "<style scoped>\n",
       "    .dataframe tbody tr th:only-of-type {\n",
       "        vertical-align: middle;\n",
       "    }\n",
       "\n",
       "    .dataframe tbody tr th {\n",
       "        vertical-align: top;\n",
       "    }\n",
       "\n",
       "    .dataframe thead th {\n",
       "        text-align: right;\n",
       "    }\n",
       "</style>\n",
       "<table border=\"1\" class=\"dataframe\">\n",
       "  <thead>\n",
       "    <tr style=\"text-align: right;\">\n",
       "      <th></th>\n",
       "      <th>question</th>\n",
       "      <th>question_new</th>\n",
       "    </tr>\n",
       "  </thead>\n",
       "  <tbody>\n",
       "    <tr>\n",
       "      <th>0</th>\n",
       "      <td>What is the step by step guide to invest in sh...</td>\n",
       "      <td>step step guid invest share market india</td>\n",
       "    </tr>\n",
       "    <tr>\n",
       "      <th>1</th>\n",
       "      <td>What is the story of Kohinoor (Koh-i-Noor) Dia...</td>\n",
       "      <td>stori kohinoor kohinoor diamond</td>\n",
       "    </tr>\n",
       "    <tr>\n",
       "      <th>2</th>\n",
       "      <td>How can I increase the speed of my internet co...</td>\n",
       "      <td>increas speed internet connect use vpn</td>\n",
       "    </tr>\n",
       "    <tr>\n",
       "      <th>3</th>\n",
       "      <td>Why am I mentally very lonely? How can I solve...</td>\n",
       "      <td>mental lone solv</td>\n",
       "    </tr>\n",
       "    <tr>\n",
       "      <th>4</th>\n",
       "      <td>Which one dissolve in water quikly sugar, salt...</td>\n",
       "      <td>one dissolv water quikli sugar salt methan car...</td>\n",
       "    </tr>\n",
       "  </tbody>\n",
       "</table>\n",
       "</div>"
      ],
      "text/plain": [
       "                                            question  \\\n",
       "0  What is the step by step guide to invest in sh...   \n",
       "1  What is the story of Kohinoor (Koh-i-Noor) Dia...   \n",
       "2  How can I increase the speed of my internet co...   \n",
       "3  Why am I mentally very lonely? How can I solve...   \n",
       "4  Which one dissolve in water quikly sugar, salt...   \n",
       "\n",
       "                                        question_new  \n",
       "0           step step guid invest share market india  \n",
       "1                    stori kohinoor kohinoor diamond  \n",
       "2             increas speed internet connect use vpn  \n",
       "3                                   mental lone solv  \n",
       "4  one dissolv water quikli sugar salt methan car...  "
      ]
     },
     "execution_count": 33,
     "metadata": {},
     "output_type": "execute_result"
    }
   ],
   "source": [
    "import pandas as pd\n",
    "\n",
    "#Transform text to lower case\n",
    "df_one['question_new']=df_one['question'].str.lower()\n",
    "\n",
    "#Remove punctuation\n",
    "df_one['question_new'] = df_one['question_new'].str.replace('[^\\w\\s]','', regex=True)\n",
    "\n",
    "# Word tokenization\n",
    "import nltk\n",
    "df_one=df_one.dropna()\n",
    "\n",
    "def tokenize(column):\n",
    "    tokens = nltk.word_tokenize(column)\n",
    "    return [w for w in tokens if w.isalpha()] \n",
    "df_one['question_new'] = df_one.apply(lambda x: tokenize(x['question_new']), axis=1)\n",
    "\n",
    "# Remove stopwords\n",
    "from nltk.corpus import stopwords\n",
    "from nltk.stem.porter import PorterStemmer \n",
    "\n",
    "def remove_stopwords(text):\n",
    "    words=[w for w in text if w not in stopwords.words('english')]\n",
    "    return words\n",
    "df_one['question_new']=df_one['question_new'].apply(lambda x: remove_stopwords(x))\n",
    "\n",
    "# Stemming\n",
    "def apply_stemming(tokenized_column):\n",
    "    stemmer = PorterStemmer() \n",
    "    return [stemmer.stem(word) for word in tokenized_column]\n",
    "df_one['question_new'] = df_one.apply(lambda x: apply_stemming(x['question_new']), axis=1)\n",
    "\n",
    "# Rejoining\n",
    "def rejoin_words(tokenized_column):\n",
    "    \n",
    "    return ( \" \".join(tokenized_column))\n",
    "df_one['question_new'] = df_one.apply(lambda x: rejoin_words(x['question_new']), axis=1)\n",
    "\n",
    "df_one.to_csv('onelistdata.csv',index=False)\n",
    "df_one.head()"
   ]
  },
  {
   "cell_type": "markdown",
   "metadata": {},
   "source": [
    "### input a question and search for same question"
   ]
  },
  {
   "cell_type": "code",
   "execution_count": 43,
   "metadata": {},
   "outputs": [
    {
     "name": "stdout",
     "output_type": "stream",
     "text": [
      "input your question: mental lone solv china\n",
      "Find the same question Series([], Name: question, dtype: object)\n"
     ]
    }
   ],
   "source": [
    "# get the question dataset\n",
    "import pandas as pd\n",
    "df_one2 = pd.read_csv(\"onelistdata.csv\", encoding='cp1252')\n",
    "df_one2= df_one2.loc[:, ~df_one2.columns.str.contains('^Unnamed')]\n",
    "\n",
    "# input words\n",
    "new_question=input('input your question: ')\n",
    "\n",
    "# Transform text to lower case\n",
    "new_question2=new_question.lower()\n",
    "\n",
    "# Remove punctuation\n",
    "punctuations = '''!()-[]{};:'\"\\,<>./?@#$%^&*_~'''\n",
    "no_punct = \"\"\n",
    "for char in new_question2:\n",
    "   if char not in punctuations:\n",
    "       no_punct = no_punct + char\n",
    "new_question2 = no_punct\n",
    "\n",
    "# Word tokenization\n",
    "import nltk\n",
    "from nltk.tokenize import word_tokenize\n",
    "def tokenize(column):\n",
    "    tokens = nltk.word_tokenize(column)\n",
    "    return [w for w in tokens if w.isalpha()] \n",
    "new_question2=tokenize(new_question2)\n",
    "\n",
    "# Remove stopwords\n",
    "from nltk.corpus import stopwords\n",
    "en_stops = set(stopwords.words('english'))\n",
    "\n",
    "filtered_sentence = []\n",
    "for word in new_question2: \n",
    "    if word not in en_stops:\n",
    "         filtered_sentence.append(word)\n",
    "new_question2=filtered_sentence\n",
    "\n",
    "# import these modules\n",
    "from nltk.stem import PorterStemmer\n",
    "\n",
    "ps = PorterStemmer()\n",
    " \n",
    "# Stemming\n",
    "filtered_sentence = []\n",
    "for w in new_question2:\n",
    "     filtered_sentence.append(ps.stem(w))\n",
    "new_question2=filtered_sentence\n",
    "\n",
    "# Rejoining\n",
    "new_question2 = ' '.join(map(str, new_question2))\n",
    "\n",
    "### search the dataset to find if there is same question\n",
    "\n",
    "df_result=df_one2[df_one2['question_new']==new_question2]['question']\n",
    "pd.options.display.max_colwidth = 90  # set a value as your need\n",
    "print(\"Find the same question\", df_result)"
   ]
  },
  {
   "cell_type": "markdown",
   "metadata": {},
   "source": [
    "## 7,  Use the Model to find similar question for user"
   ]
  },
  {
   "cell_type": "code",
   "execution_count": 45,
   "metadata": {},
   "outputs": [
    {
     "name": "stdout",
     "output_type": "stream",
     "text": [
      "Find the similar question:  Why am I mentally very lonely? How can I solve it?\n"
     ]
    }
   ],
   "source": [
    "df_one2 = pd.read_csv(\"onelistdata.csv\", encoding='cp1252')\n",
    "df_one2= df_one2.loc[:, ~df_one2.columns.str.contains('^Unnamed')]\n",
    "df_one2['input_question']=new_question2\n",
    "\n",
    "df_b_l_f=df_one2\n",
    "#  I calculate q1len and q2len\n",
    "df_b_l_f['q1len'] = df_b_l_f['question_new'].str.len() \n",
    "df_b_l_f['q2len'] = df_b_l_f['input_question'].str.len()\n",
    "\n",
    "#  I calculate q1_n_words and q2_n_words\n",
    "df_b_l_f['q1_n_words'] = df_b_l_f['question_new'].apply(lambda row: len(str(row).split(\" \")))\n",
    "df_b_l_f['q2_n_words'] = df_b_l_f['input_question'].apply(lambda row: len(str(row).split(\" \")))\n",
    "\n",
    "#  I calculate word_Common\n",
    "def normalized_word_Common(row):\n",
    "        w1 = set(map(lambda word: word.lower().strip(), str(row['question_new']).split(\" \")))\n",
    "        w2 = set(map(lambda word: word.lower().strip(), str(row['input_question']).split(\" \")))    \n",
    "        return 1.0 * len(w1 & w2)\n",
    "df_b_l_f['word_Common'] = df_b_l_f.apply(normalized_word_Common, axis=1)\n",
    "\n",
    "#  I calculate word_unique\n",
    "def normalized_word_Common(row):\n",
    "        w1 = set(map(lambda word: word.lower().strip(), str(row['question_new']).split(\" \")))\n",
    "        w2 = set(map(lambda word: word.lower().strip(), str(row['input_question']).split(\" \")))    \n",
    "        return 1.0 * len(set(w1 | w2))\n",
    "df_b_l_f['word_unique'] = df_b_l_f.apply(normalized_word_Common, axis=1)\n",
    "\n",
    "#  I calculate jaccard index\n",
    "def normalized_word_share(row):\n",
    "        w1 = set(map(lambda word: word.lower().strip(), str(row['question_new']).split(\" \")))\n",
    "        w2 = set(map(lambda word: word.lower().strip(), str(row['input_question']).split(\" \")))    \n",
    "        return 1.0 * len(w1 & w2)/len(set(w1 | w2))\n",
    "df_b_l_f['jaccard_index'] = df_b_l_f.apply(normalized_word_share, axis=1)\n",
    "\n",
    "#df_b_l_f.head()\n",
    "\n",
    "df_b_l_f=df_b_l_f.dropna()\n",
    "\n",
    "X=df_b_l_f.drop(['question','question_new','input_question'], axis = 1)\n",
    "\n",
    "# load the model from disk\n",
    "import pickle\n",
    "filename = 'finalized_model.sav'\n",
    "loaded_model = pickle.load(open(filename, 'rb'))\n",
    "y_pre=loaded_model.predict(X)\n",
    "df_pre = pd.DataFrame(y_pre, columns = ['pre'])\n",
    "result = pd.concat([df_one2, df_pre], axis=1)\n",
    "\n",
    "df_result=result[result['pre']==1]['question']\n",
    "pd.options.display.max_colwidth = 90  # set a value as your need\n",
    "print(\"Find the similar question: \", df_result.iloc[0])\n"
   ]
  },
  {
   "cell_type": "markdown",
   "metadata": {},
   "source": [
    "## 8. Conclusion\n",
    "1. Because I check the model calculate fast, I used decision tree to find a similar question.\n",
    "2. Most important feature is jaccard index."
   ]
  },
  {
   "cell_type": "code",
   "execution_count": null,
   "metadata": {},
   "outputs": [],
   "source": []
  }
 ],
 "metadata": {
  "kernelspec": {
   "display_name": "Python 3",
   "language": "python",
   "name": "python3"
  },
  "language_info": {
   "codemirror_mode": {
    "name": "ipython",
    "version": 3
   },
   "file_extension": ".py",
   "mimetype": "text/x-python",
   "name": "python",
   "nbconvert_exporter": "python",
   "pygments_lexer": "ipython3",
   "version": "3.8.8"
  }
 },
 "nbformat": 4,
 "nbformat_minor": 4
}
