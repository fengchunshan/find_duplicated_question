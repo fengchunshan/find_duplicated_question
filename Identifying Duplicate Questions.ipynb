{
 "cells": [
  {
   "cell_type": "markdown",
   "metadata": {},
   "source": [
    "## Identifying Duplicate Questions"
   ]
  },
  {
   "cell_type": "markdown",
   "metadata": {},
   "source": [
    "Over 100 million people visit Quora every month, so it's no surprise that many people ask similar (or the same) questions. Various questions with the same intent can cause people to spend extra time searching for the best answer to their question, and results in members answering multiple versions of the same question. <br>\n",
    "\n",
    "The first step, I will use machine learning algorithm to predict whether a pair of questions are duplicates or not.<br>\n",
    "The second step, I will achieve this function, when user input question, if same question or similar question can be found, the previous question will be returned to the user. <br>\n",
    "\n",
    "\n",
    "I will solve this problem by the following steps:<br>\n",
    "-1, Get Dataset<br>\n",
    "-2, Data Exploration<br>\n",
    "-3, Data Cleaning<br>\n",
    "-4, Feature Engineering<br>\n",
    "-5, Modeling<br>\n",
    "-6, find the same question<br>\n",
    "-7, Use the Model to find similar question for user<br>\n"
   ]
  },
  {
   "cell_type": "markdown",
   "metadata": {},
   "source": [
    "## 1, Get Dataset"
   ]
  },
  {
   "cell_type": "code",
   "execution_count": 1,
   "metadata": {},
   "outputs": [
    {
     "data": {
      "text/html": [
       "<div>\n",
       "<style scoped>\n",
       "    .dataframe tbody tr th:only-of-type {\n",
       "        vertical-align: middle;\n",
       "    }\n",
       "\n",
       "    .dataframe tbody tr th {\n",
       "        vertical-align: top;\n",
       "    }\n",
       "\n",
       "    .dataframe thead th {\n",
       "        text-align: right;\n",
       "    }\n",
       "</style>\n",
       "<table border=\"1\" class=\"dataframe\">\n",
       "  <thead>\n",
       "    <tr style=\"text-align: right;\">\n",
       "      <th></th>\n",
       "      <th>id</th>\n",
       "      <th>qid1</th>\n",
       "      <th>qid2</th>\n",
       "      <th>question1</th>\n",
       "      <th>question2</th>\n",
       "      <th>is_duplicate</th>\n",
       "    </tr>\n",
       "  </thead>\n",
       "  <tbody>\n",
       "    <tr>\n",
       "      <th>0</th>\n",
       "      <td>0</td>\n",
       "      <td>1</td>\n",
       "      <td>2</td>\n",
       "      <td>What is the step by step guide to invest in sh...</td>\n",
       "      <td>What is the step by step guide to invest in sh...</td>\n",
       "      <td>0</td>\n",
       "    </tr>\n",
       "    <tr>\n",
       "      <th>1</th>\n",
       "      <td>1</td>\n",
       "      <td>3</td>\n",
       "      <td>4</td>\n",
       "      <td>What is the story of Kohinoor (Koh-i-Noor) Dia...</td>\n",
       "      <td>What would happen if the Indian government sto...</td>\n",
       "      <td>0</td>\n",
       "    </tr>\n",
       "    <tr>\n",
       "      <th>2</th>\n",
       "      <td>2</td>\n",
       "      <td>5</td>\n",
       "      <td>6</td>\n",
       "      <td>How can I increase the speed of my internet co...</td>\n",
       "      <td>How can Internet speed be increased by hacking...</td>\n",
       "      <td>0</td>\n",
       "    </tr>\n",
       "    <tr>\n",
       "      <th>3</th>\n",
       "      <td>3</td>\n",
       "      <td>7</td>\n",
       "      <td>8</td>\n",
       "      <td>Why am I mentally very lonely? How can I solve...</td>\n",
       "      <td>Find the remainder when [math]23^{24}[/math] i...</td>\n",
       "      <td>0</td>\n",
       "    </tr>\n",
       "    <tr>\n",
       "      <th>4</th>\n",
       "      <td>4</td>\n",
       "      <td>9</td>\n",
       "      <td>10</td>\n",
       "      <td>Which one dissolve in water quikly sugar, salt...</td>\n",
       "      <td>Which fish would survive in salt water?</td>\n",
       "      <td>0</td>\n",
       "    </tr>\n",
       "  </tbody>\n",
       "</table>\n",
       "</div>"
      ],
      "text/plain": [
       "   id  qid1  qid2                                          question1  \\\n",
       "0   0     1     2  What is the step by step guide to invest in sh...   \n",
       "1   1     3     4  What is the story of Kohinoor (Koh-i-Noor) Dia...   \n",
       "2   2     5     6  How can I increase the speed of my internet co...   \n",
       "3   3     7     8  Why am I mentally very lonely? How can I solve...   \n",
       "4   4     9    10  Which one dissolve in water quikly sugar, salt...   \n",
       "\n",
       "                                           question2  is_duplicate  \n",
       "0  What is the step by step guide to invest in sh...             0  \n",
       "1  What would happen if the Indian government sto...             0  \n",
       "2  How can Internet speed be increased by hacking...             0  \n",
       "3  Find the remainder when [math]23^{24}[/math] i...             0  \n",
       "4            Which fish would survive in salt water?             0  "
      ]
     },
     "execution_count": 1,
     "metadata": {},
     "output_type": "execute_result"
    }
   ],
   "source": [
    "import pandas as pd\n",
    "df = pd.read_csv(\"train.csv\", encoding='cp1252')\n",
    "df = df.loc[:, ~df.columns.str.contains('^Unnamed')]\n",
    "df.head()"
   ]
  },
  {
   "cell_type": "markdown",
   "metadata": {},
   "source": [
    "## 2, Data Exploration"
   ]
  },
  {
   "cell_type": "markdown",
   "metadata": {},
   "source": [
    "I try to get a general idea about the data."
   ]
  },
  {
   "cell_type": "code",
   "execution_count": 2,
   "metadata": {},
   "outputs": [
    {
     "name": "stdout",
     "output_type": "stream",
     "text": [
      "<class 'pandas.core.frame.DataFrame'>\n",
      "RangeIndex: 50863 entries, 0 to 50862\n",
      "Data columns (total 6 columns):\n",
      " #   Column        Non-Null Count  Dtype \n",
      "---  ------        --------------  ----- \n",
      " 0   id            50863 non-null  int64 \n",
      " 1   qid1          50863 non-null  int64 \n",
      " 2   qid2          50863 non-null  int64 \n",
      " 3   question1     50863 non-null  object\n",
      " 4   question2     50863 non-null  object\n",
      " 5   is_duplicate  50863 non-null  int64 \n",
      "dtypes: int64(4), object(2)\n",
      "memory usage: 2.3+ MB\n"
     ]
    }
   ],
   "source": [
    "df.info()"
   ]
  },
  {
   "cell_type": "markdown",
   "metadata": {},
   "source": [
    "### I check if there is any missing data."
   ]
  },
  {
   "cell_type": "code",
   "execution_count": 3,
   "metadata": {},
   "outputs": [
    {
     "name": "stdout",
     "output_type": "stream",
     "text": [
      "Empty DataFrame\n",
      "Columns: [id, qid1, qid2, question1, question2, is_duplicate]\n",
      "Index: []\n"
     ]
    }
   ],
   "source": [
    "nan_rows = df[df.isnull().any(1)]\n",
    "print (nan_rows)"
   ]
  },
  {
   "cell_type": "markdown",
   "metadata": {},
   "source": [
    "Based on the above result, there is no missing data in the dataset."
   ]
  },
  {
   "cell_type": "markdown",
   "metadata": {},
   "source": [
    "### I check if it is a balanced dataset."
   ]
  },
  {
   "cell_type": "code",
   "execution_count": 4,
   "metadata": {},
   "outputs": [
    {
     "name": "stdout",
     "output_type": "stream",
     "text": [
      "~> Question pairs are not Similar (is_duplicate = 0):\n",
      "   62.73%\n",
      "\n",
      "~> Question pairs are Similar (is_duplicate = 1):\n",
      "   37.27%\n"
     ]
    },
    {
     "data": {
      "image/png": "[encoded data removed]",
      "text/plain": [
       "<Figure size 432x288 with 1 Axes>"
      ]
     },
     "metadata": {
      "needs_background": "light"
     },
     "output_type": "display_data"
    }
   ],
   "source": [
    "df.groupby(\"is_duplicate\")['id'].count().plot.bar()\n",
    "print('~> Question pairs are not Similar (is_duplicate = 0):\\n   {}%'.format(100 - round(df['is_duplicate'].mean()*100, 2)))\n",
    "print('\\n~> Question pairs are Similar (is_duplicate = 1):\\n   {}%'.format(round(df['is_duplicate'].mean()*100, 2)))\n"
   ]
  },
  {
   "cell_type": "markdown",
   "metadata": {},
   "source": [
    "Based on the above result, we know it is an imbalanced classification. The imbalanced classification dataset's accuracy is misleading. The overall accuracy would be high simply because one classification has a higher percentage. I will change it to a balanced classification."
   ]
  },
  {
   "cell_type": "markdown",
   "metadata": {},
   "source": [
    "### Resampling the dataset\n",
    "Because we have over 10,000 data in the small classification, I will use under-sampling(removing samples from the majority class) to resample the dataset. This method does not increase new data to the dataset, keeps the original information.\n"
   ]
  },
  {
   "cell_type": "code",
   "execution_count": 18,
   "metadata": {},
   "outputs": [
    {
     "name": "stdout",
     "output_type": "stream",
     "text": [
      "class 0: (31904, 6)\n",
      "class 1: (18959, 6)\n",
      "total class of 1 and 0: 0    18959\n",
      "1    18959\n",
      "Name: is_duplicate, dtype: int64\n"
     ]
    },
    {
     "data": {
      "text/plain": [
       "<AxesSubplot:title={'center':'count (target)'}>"
      ]
     },
     "execution_count": 18,
     "metadata": {},
     "output_type": "execute_result"
    },
    {
     "data": {
      "image/png": "[encoded data removed]",
      "text/plain": [
       "<Figure size 432x288 with 1 Axes>"
      ]
     },
     "metadata": {
      "needs_background": "light"
     },
     "output_type": "display_data"
    }
   ],
   "source": [
    "# class count\n",
    "class_count_0, class_count_1 = df['is_duplicate'].value_counts()\n",
    "\n",
    "# Separate class\n",
    "class_0 = df[df['is_duplicate'] == 0]\n",
    "class_1 = df[df['is_duplicate'] == 1]# print the shape of the class\n",
    "print('class 0:', class_0.shape)\n",
    "print('class 1:', class_1.shape)\n",
    "\n",
    "class_0_under = class_0.sample(class_count_1)\n",
    "\n",
    "test_under = pd.concat([class_0_under, class_1], axis=0)\n",
    "\n",
    "print(\"total class of 1 and 0:\",test_under['is_duplicate'].value_counts())# plot the count after under-sampeling\n",
    "test_under['is_duplicate'].value_counts().plot(kind='bar', title='count (target)')"
   ]
  },
  {
   "cell_type": "code",
   "execution_count": 19,
   "metadata": {},
   "outputs": [
    {
     "data": {
      "text/html": [
       "<div>\n",
       "<style scoped>\n",
       "    .dataframe tbody tr th:only-of-type {\n",
       "        vertical-align: middle;\n",
       "    }\n",
       "\n",
       "    .dataframe tbody tr th {\n",
       "        vertical-align: top;\n",
       "    }\n",
       "\n",
       "    .dataframe thead th {\n",
       "        text-align: right;\n",
       "    }\n",
       "</style>\n",
       "<table border=\"1\" class=\"dataframe\">\n",
       "  <thead>\n",
       "    <tr style=\"text-align: right;\">\n",
       "      <th></th>\n",
       "      <th>id</th>\n",
       "      <th>qid1</th>\n",
       "      <th>qid2</th>\n",
       "      <th>question1</th>\n",
       "      <th>question2</th>\n",
       "      <th>is_duplicate</th>\n",
       "    </tr>\n",
       "  </thead>\n",
       "  <tbody>\n",
       "    <tr>\n",
       "      <th>48131</th>\n",
       "      <td>48131</td>\n",
       "      <td>85869</td>\n",
       "      <td>85870</td>\n",
       "      <td>Why was Jaqen H'ghar captured in the first pla...</td>\n",
       "      <td>Why was Jaqen H'ghar being sent to Castle Black?</td>\n",
       "      <td>0</td>\n",
       "    </tr>\n",
       "    <tr>\n",
       "      <th>47576</th>\n",
       "      <td>47576</td>\n",
       "      <td>84938</td>\n",
       "      <td>45001</td>\n",
       "      <td>Discuss two model of scientific explanation?</td>\n",
       "      <td>What are the signs of brain tumors or brain ca...</td>\n",
       "      <td>0</td>\n",
       "    </tr>\n",
       "    <tr>\n",
       "      <th>8911</th>\n",
       "      <td>8911</td>\n",
       "      <td>17345</td>\n",
       "      <td>17346</td>\n",
       "      <td>If there has been a real UFO, what is inside i...</td>\n",
       "      <td>Has there been an increase in UFO activity in ...</td>\n",
       "      <td>0</td>\n",
       "    </tr>\n",
       "    <tr>\n",
       "      <th>39037</th>\n",
       "      <td>39037</td>\n",
       "      <td>70825</td>\n",
       "      <td>21362</td>\n",
       "      <td>Can someone see the number of times I viewed t...</td>\n",
       "      <td>If I deleted someone on snapchat, and then mad...</td>\n",
       "      <td>0</td>\n",
       "    </tr>\n",
       "    <tr>\n",
       "      <th>21748</th>\n",
       "      <td>21748</td>\n",
       "      <td>40915</td>\n",
       "      <td>40916</td>\n",
       "      <td>Why do most airguns fires pellets intead of re...</td>\n",
       "      <td>Could you fire a bullet into orbit?</td>\n",
       "      <td>0</td>\n",
       "    </tr>\n",
       "  </tbody>\n",
       "</table>\n",
       "</div>"
      ],
      "text/plain": [
       "          id   qid1   qid2                                          question1  \\\n",
       "48131  48131  85869  85870  Why was Jaqen H'ghar captured in the first pla...   \n",
       "47576  47576  84938  45001       Discuss two model of scientific explanation?   \n",
       "8911    8911  17345  17346  If there has been a real UFO, what is inside i...   \n",
       "39037  39037  70825  21362  Can someone see the number of times I viewed t...   \n",
       "21748  21748  40915  40916  Why do most airguns fires pellets intead of re...   \n",
       "\n",
       "                                               question2  is_duplicate  \n",
       "48131   Why was Jaqen H'ghar being sent to Castle Black?             0  \n",
       "47576  What are the signs of brain tumors or brain ca...             0  \n",
       "8911   Has there been an increase in UFO activity in ...             0  \n",
       "39037  If I deleted someone on snapchat, and then mad...             0  \n",
       "21748                Could you fire a bullet into orbit?             0  "
      ]
     },
     "execution_count": 19,
     "metadata": {},
     "output_type": "execute_result"
    }
   ],
   "source": [
    "df_b=test_under\n",
    "df_b.head()"
   ]
  },
  {
   "cell_type": "markdown",
   "metadata": {},
   "source": [
    "## 3, Data Cleaning\n",
    "###  I will deal with the natural language in the following steps\n",
    "- Change to lower case\n",
    "- Removing punctuation\n",
    "- Tokenization\n",
    "- Stopwords cleaning\n",
    "- Stemming\n",
    "- Rejoining"
   ]
  },
  {
   "cell_type": "code",
   "execution_count": 30,
   "metadata": {},
   "outputs": [
    {
     "name": "stderr",
     "output_type": "stream",
     "text": [
      "<ipython-input-30-8d1bff48657c>:11: FutureWarning: The default value of regex will change from True to False in a future version.\n",
      "  df_b_l[\"question2\"] = df_b_l['question2'].str.replace('[^\\w\\s]','')\n",
      "<ipython-input-30-8d1bff48657c>:12: FutureWarning: The default value of regex will change from True to False in a future version.\n",
      "  df_b_l[\"question1\"] = df_b_l['question1'].str.replace('[^\\w\\s]','')\n"
     ]
    },
    {
     "data": {
      "text/html": [
       "<div>\n",
       "<style scoped>\n",
       "    .dataframe tbody tr th:only-of-type {\n",
       "        vertical-align: middle;\n",
       "    }\n",
       "\n",
       "    .dataframe tbody tr th {\n",
       "        vertical-align: top;\n",
       "    }\n",
       "\n",
       "    .dataframe thead th {\n",
       "        text-align: right;\n",
       "    }\n",
       "</style>\n",
       "<table border=\"1\" class=\"dataframe\">\n",
       "  <thead>\n",
       "    <tr style=\"text-align: right;\">\n",
       "      <th></th>\n",
       "      <th>id</th>\n",
       "      <th>qid1</th>\n",
       "      <th>qid2</th>\n",
       "      <th>question1</th>\n",
       "      <th>question2</th>\n",
       "      <th>is_duplicate</th>\n",
       "    </tr>\n",
       "  </thead>\n",
       "  <tbody>\n",
       "    <tr>\n",
       "      <th>48131</th>\n",
       "      <td>48131</td>\n",
       "      <td>85869</td>\n",
       "      <td>85870</td>\n",
       "      <td>jaqen hghar captur first place two prison skill</td>\n",
       "      <td>jaqen hghar sent castl black</td>\n",
       "      <td>0</td>\n",
       "    </tr>\n",
       "    <tr>\n",
       "      <th>47576</th>\n",
       "      <td>47576</td>\n",
       "      <td>84938</td>\n",
       "      <td>45001</td>\n",
       "      <td>discuss two model scientif explan</td>\n",
       "      <td>sign brain tumor brain cancer</td>\n",
       "      <td>0</td>\n",
       "    </tr>\n",
       "    <tr>\n",
       "      <th>8911</th>\n",
       "      <td>8911</td>\n",
       "      <td>17345</td>\n",
       "      <td>17346</td>\n",
       "      <td>real ufo insid control go</td>\n",
       "      <td>increa ufo activ recent year could signif</td>\n",
       "      <td>0</td>\n",
       "    </tr>\n",
       "    <tr>\n",
       "      <th>39037</th>\n",
       "      <td>39037</td>\n",
       "      <td>70825</td>\n",
       "      <td>21362</td>\n",
       "      <td>someon see number time view snapchat stori</td>\n",
       "      <td>delet someon snapchat made stori public abl see</td>\n",
       "      <td>0</td>\n",
       "    </tr>\n",
       "    <tr>\n",
       "      <th>21748</th>\n",
       "      <td>21748</td>\n",
       "      <td>40915</td>\n",
       "      <td>40916</td>\n",
       "      <td>airgun fire pellet intead real bullet bullet s...</td>\n",
       "      <td>could fire bullet orbit</td>\n",
       "      <td>0</td>\n",
       "    </tr>\n",
       "  </tbody>\n",
       "</table>\n",
       "</div>"
      ],
      "text/plain": [
       "          id   qid1   qid2                                          question1  \\\n",
       "48131  48131  85869  85870    jaqen hghar captur first place two prison skill   \n",
       "47576  47576  84938  45001                  discuss two model scientif explan   \n",
       "8911    8911  17345  17346                          real ufo insid control go   \n",
       "39037  39037  70825  21362         someon see number time view snapchat stori   \n",
       "21748  21748  40915  40916  airgun fire pellet intead real bullet bullet s...   \n",
       "\n",
       "                                             question2  is_duplicate  \n",
       "48131                     jaqen hghar sent castl black             0  \n",
       "47576                    sign brain tumor brain cancer             0  \n",
       "8911         increa ufo activ recent year could signif             0  \n",
       "39037  delet someon snapchat made stori public abl see             0  \n",
       "21748                          could fire bullet orbit             0  "
      ]
     },
     "execution_count": 30,
     "metadata": {},
     "output_type": "execute_result"
    }
   ],
   "source": [
    "import nltk\n",
    "from nltk.corpus import stopwords\n",
    "from nltk.stem.porter import PorterStemmer \n",
    "\n",
    "#Change to lower case\n",
    "df_b_l=df_b\n",
    "df_b_l['question1']=df_b['question1'].astype(str).str.lower()\n",
    "df_b_l['question2']=df_b['question2'].astype(str).str.lower()\n",
    "\n",
    "# Removing punctuation\n",
    "df_b_l[\"question2\"] = df_b_l['question2'].str.replace('[^\\w\\s]','')\n",
    "df_b_l[\"question1\"] = df_b_l['question1'].str.replace('[^\\w\\s]','')\n",
    "\n",
    "# Tokenization\n",
    "def tokenize(column):\n",
    "    tokens = nltk.word_tokenize(column)\n",
    "    return [w for w in tokens if w.isalpha()] \n",
    "df_b_l['question1'] = df_b_l.apply(lambda x: tokenize(x['question1']), axis=1)\n",
    "df_b_l['question2'] = df_b_l.apply(lambda x: tokenize(x['question2']), axis=1)\n",
    "\n",
    "# Stopwords cleaning\n",
    "def remove_stopwords(text):\n",
    "     words=[w for w in text if w not in stopwords.words('english')]\n",
    "     return words\n",
    "df_b_l['question1']=df_b_l['question1'].apply(lambda x: remove_stopwords(x))\n",
    "df_b_l['question2']=df_b_l['question2'].apply(lambda x: remove_stopwords(x))\n",
    "\n",
    "# Stemming\n",
    "def apply_stemming(tokenized_column):\n",
    "    stemmer = PorterStemmer() \n",
    "    return [stemmer.stem(word) for word in tokenized_column]\n",
    "df_b_l['question1'] = df_b_l['question1'].apply(lambda x: apply_stemming(x))\n",
    "df_b_l['question2'] = df_b_l['question2'].apply(lambda x: apply_stemming(x))\n",
    "\n",
    "# Rejoining\n",
    "def rejoin_words(tokenized_column):\n",
    "    \n",
    "    return ( \" \".join(tokenized_column))\n",
    "\n",
    "df_b_l['question1'] = df_b_l['question1'].apply(lambda x: rejoin_words(x))\n",
    "df_b_l['question2'] = df_b_l['question2'].apply(lambda x: rejoin_words(x))\n",
    "\n",
    "df_b_l.to_csv('dataclean.csv',index=False)\n",
    "df_b_l.head()"
   ]
  },
  {
   "cell_type": "markdown",
   "metadata": {},
   "source": [
    "## 4, Feature Engineering\n",
    "I will use the following features<br>\n",
    "q1len = Length of q1<br>\n",
    "q2len = Length of q2<br>\n",
    "q1_n_words = Number of words in Question 1<br>\n",
    "q2_n_words = Number of words in Question 2<br>\n",
    "word_Total =(Total num of words in Question 1 + Total num of words in Question 2)<br>\n",
    "word_Common = (Number of common unique words in Question 1 and Question 2)<br>\n",
    "word_Unique =(Total num of unique words in Question 1 and Question 2)<br>\n",
    "jaccard index = (word_common)/(word_Unique)<br>"
   ]
  },
  {
   "cell_type": "code",
   "execution_count": 36,
   "metadata": {},
   "outputs": [
    {
     "data": {
      "text/html": [
       "<div>\n",
       "<style scoped>\n",
       "    .dataframe tbody tr th:only-of-type {\n",
       "        vertical-align: middle;\n",
       "    }\n",
       "\n",
       "    .dataframe tbody tr th {\n",
       "        vertical-align: top;\n",
       "    }\n",
       "\n",
       "    .dataframe thead th {\n",
       "        text-align: right;\n",
       "    }\n",
       "</style>\n",
       "<table border=\"1\" class=\"dataframe\">\n",
       "  <thead>\n",
       "    <tr style=\"text-align: right;\">\n",
       "      <th></th>\n",
       "      <th>id</th>\n",
       "      <th>qid1</th>\n",
       "      <th>qid2</th>\n",
       "      <th>question1</th>\n",
       "      <th>question2</th>\n",
       "      <th>is_duplicate</th>\n",
       "      <th>q1len</th>\n",
       "      <th>q2len</th>\n",
       "      <th>q1_n_words</th>\n",
       "      <th>q2_n_words</th>\n",
       "      <th>word_Total</th>\n",
       "      <th>word_Common</th>\n",
       "      <th>word_unique</th>\n",
       "      <th>jaccard_index</th>\n",
       "    </tr>\n",
       "  </thead>\n",
       "  <tbody>\n",
       "    <tr>\n",
       "      <th>0</th>\n",
       "      <td>48131</td>\n",
       "      <td>85869</td>\n",
       "      <td>85870</td>\n",
       "      <td>jaqen hghar captur first place two prison skill</td>\n",
       "      <td>jaqen hghar sent castl black</td>\n",
       "      <td>0</td>\n",
       "      <td>47.0</td>\n",
       "      <td>28.0</td>\n",
       "      <td>8</td>\n",
       "      <td>5</td>\n",
       "      <td>13.0</td>\n",
       "      <td>2.0</td>\n",
       "      <td>11.0</td>\n",
       "      <td>0.181818</td>\n",
       "    </tr>\n",
       "    <tr>\n",
       "      <th>1</th>\n",
       "      <td>47576</td>\n",
       "      <td>84938</td>\n",
       "      <td>45001</td>\n",
       "      <td>discuss two model scientif explan</td>\n",
       "      <td>sign brain tumor brain cancer</td>\n",
       "      <td>0</td>\n",
       "      <td>33.0</td>\n",
       "      <td>29.0</td>\n",
       "      <td>5</td>\n",
       "      <td>5</td>\n",
       "      <td>9.0</td>\n",
       "      <td>0.0</td>\n",
       "      <td>9.0</td>\n",
       "      <td>0.000000</td>\n",
       "    </tr>\n",
       "    <tr>\n",
       "      <th>2</th>\n",
       "      <td>8911</td>\n",
       "      <td>17345</td>\n",
       "      <td>17346</td>\n",
       "      <td>real ufo insid control go</td>\n",
       "      <td>increa ufo activ recent year could signif</td>\n",
       "      <td>0</td>\n",
       "      <td>25.0</td>\n",
       "      <td>41.0</td>\n",
       "      <td>5</td>\n",
       "      <td>7</td>\n",
       "      <td>12.0</td>\n",
       "      <td>1.0</td>\n",
       "      <td>11.0</td>\n",
       "      <td>0.090909</td>\n",
       "    </tr>\n",
       "    <tr>\n",
       "      <th>3</th>\n",
       "      <td>39037</td>\n",
       "      <td>70825</td>\n",
       "      <td>21362</td>\n",
       "      <td>someon see number time view snapchat stori</td>\n",
       "      <td>delet someon snapchat made stori public abl see</td>\n",
       "      <td>0</td>\n",
       "      <td>42.0</td>\n",
       "      <td>47.0</td>\n",
       "      <td>7</td>\n",
       "      <td>8</td>\n",
       "      <td>15.0</td>\n",
       "      <td>4.0</td>\n",
       "      <td>11.0</td>\n",
       "      <td>0.363636</td>\n",
       "    </tr>\n",
       "    <tr>\n",
       "      <th>4</th>\n",
       "      <td>21748</td>\n",
       "      <td>40915</td>\n",
       "      <td>40916</td>\n",
       "      <td>airgun fire pellet intead real bullet bullet s...</td>\n",
       "      <td>could fire bullet orbit</td>\n",
       "      <td>0</td>\n",
       "      <td>60.0</td>\n",
       "      <td>23.0</td>\n",
       "      <td>9</td>\n",
       "      <td>4</td>\n",
       "      <td>12.0</td>\n",
       "      <td>2.0</td>\n",
       "      <td>10.0</td>\n",
       "      <td>0.200000</td>\n",
       "    </tr>\n",
       "  </tbody>\n",
       "</table>\n",
       "</div>"
      ],
      "text/plain": [
       "      id   qid1   qid2                                          question1  \\\n",
       "0  48131  85869  85870    jaqen hghar captur first place two prison skill   \n",
       "1  47576  84938  45001                  discuss two model scientif explan   \n",
       "2   8911  17345  17346                          real ufo insid control go   \n",
       "3  39037  70825  21362         someon see number time view snapchat stori   \n",
       "4  21748  40915  40916  airgun fire pellet intead real bullet bullet s...   \n",
       "\n",
       "                                         question2  is_duplicate  q1len  \\\n",
       "0                     jaqen hghar sent castl black             0   47.0   \n",
       "1                    sign brain tumor brain cancer             0   33.0   \n",
       "2        increa ufo activ recent year could signif             0   25.0   \n",
       "3  delet someon snapchat made stori public abl see             0   42.0   \n",
       "4                          could fire bullet orbit             0   60.0   \n",
       "\n",
       "   q2len  q1_n_words  q2_n_words  word_Total  word_Common  word_unique  \\\n",
       "0   28.0           8           5        13.0          2.0         11.0   \n",
       "1   29.0           5           5         9.0          0.0          9.0   \n",
       "2   41.0           5           7        12.0          1.0         11.0   \n",
       "3   47.0           7           8        15.0          4.0         11.0   \n",
       "4   23.0           9           4        12.0          2.0         10.0   \n",
       "\n",
       "   jaccard_index  \n",
       "0       0.181818  \n",
       "1       0.000000  \n",
       "2       0.090909  \n",
       "3       0.363636  \n",
       "4       0.200000  "
      ]
     },
     "execution_count": 36,
     "metadata": {},
     "output_type": "execute_result"
    }
   ],
   "source": [
    "df_b_l_f = pd.read_csv(\"dataclean.csv\")\n",
    "\n",
    "#  I calculate q1len and q2len\n",
    "df_b_l_f['q1len'] = df_b_l_f['question1'].str.len() \n",
    "df_b_l_f['q2len'] = df_b_l_f['question2'].str.len()\n",
    "\n",
    "#  I calculate q1_n_words and q2_n_words\n",
    "df_b_l_f['q1_n_words'] = df_b_l_f['question1'].apply(lambda row: len(str(row).split(\" \")))\n",
    "df_b_l_f['q2_n_words'] = df_b_l_f['question2'].apply(lambda row: len(str(row).split(\" \")))\n",
    "\n",
    "#  I calculate word_total \n",
    "def normalized_word_Total(row):\n",
    "        w1 = set(map(lambda word: word.lower().strip(), str(row['question1']).split(\" \")))\n",
    "        w2 = set(map(lambda word: word.lower().strip(), str(row['question2']).split(\" \")))    \n",
    "        return 1.0 * (len(w1) + len(w2))\n",
    "df_b_l_f['word_Total'] = df_b_l_f.apply(normalized_word_Total, axis=1)\n",
    "\n",
    "\n",
    "#  I calculate word_Common\n",
    "def normalized_word_Common(row):\n",
    "        w1 = set(map(lambda word: word.lower().strip(), str(row['question1']).split(\" \")))\n",
    "        w2 = set(map(lambda word: word.lower().strip(), str(row['question2']).split(\" \")))    \n",
    "        return 1.0 * len(w1 & w2)\n",
    "df_b_l_f['word_Common'] = df_b_l_f.apply(normalized_word_Common, axis=1)\n",
    "\n",
    "#  I calculate word_unique\n",
    "def normalized_word_Common(row):\n",
    "        w1 = set(map(lambda word: word.lower().strip(), str(row['question1']).split(\" \")))\n",
    "        w2 = set(map(lambda word: word.lower().strip(), str(row['question2']).split(\" \")))    \n",
    "        return 1.0 * len(set(w1 | w2))\n",
    "df_b_l_f['word_unique'] = df_b_l_f.apply(normalized_word_Common, axis=1)\n",
    "\n",
    "#  I calculate jaccard index\n",
    "def normalized_word_share(row):\n",
    "        w1 = set(map(lambda word: word.lower().strip(), str(row['question1']).split(\" \")))\n",
    "        w2 = set(map(lambda word: word.lower().strip(), str(row['question2']).split(\" \")))    \n",
    "        return 1.0 * len(w1 & w2)/len(set(w1 | w2))\n",
    "df_b_l_f['jaccard_index'] = df_b_l_f.apply(normalized_word_share, axis=1)\n",
    "\n",
    "df_b_l_f.to_csv(\"clean_feature.csv\", index=False)\n",
    "df_b_l_f.head()"
   ]
  },
  {
   "cell_type": "markdown",
   "metadata": {},
   "source": [
    "## 5, Modeling\n",
    " Random Forest calculate fast, and can calculate feature importance. I choose grid search for random forest."
   ]
  },
  {
   "cell_type": "code",
   "execution_count": 27,
   "metadata": {},
   "outputs": [
    {
     "name": "stdout",
     "output_type": "stream",
     "text": [
      "tuned hpyerparameters :(best parameters)  {'max_depth': 11, 'n_estimators': 181}\n",
      "accuracy : 0.7096943202156064\n"
     ]
    }
   ],
   "source": [
    "from sklearn.ensemble import RandomForestClassifier\n",
    "from sklearn.model_selection import train_test_split\n",
    "from sklearn.metrics import accuracy_score\n",
    "from sklearn.model_selection import GridSearchCV\n",
    "\n",
    "df_b_l_f = pd.read_csv(\"clean_feature.csv\")\n",
    "\n",
    "df_b_l_f=df_b_l_f.dropna()\n",
    "\n",
    "y=df_b_l_f['is_duplicate']\n",
    "X=df_b_l_f.drop(['is_duplicate', 'question1','question2','qid1','qid2','id'], axis = 1)\n",
    "\n",
    "# split the dataset to training dataset and test dataset\n",
    "x_train,x_cv,y_train,y_cv=train_test_split(X,y,test_size=0.2,random_state=1)\n",
    "\n",
    "# Train the model\n",
    "paramgrid = {'max_depth': list(range(1,20,2)),'n_estimators':list(range(1,200,20))}\n",
    "Ran_Forest_cv = GridSearchCV(RandomForestClassifier(random_state=1),paramgrid)\n",
    "Ran_Forest_cv.fit(x_train,y_train)\n",
    "print(\"tuned hpyerparameters :(best parameters) \",Ran_Forest_cv.best_params_)\n",
    "print(\"accuracy :\",Ran_Forest_cv.best_score_)"
   ]
  },
  {
   "cell_type": "markdown",
   "metadata": {},
   "source": [
    "### I will check the overfitting of random forest "
   ]
  },
  {
   "cell_type": "code",
   "execution_count": 42,
   "metadata": {},
   "outputs": [
    {
     "data": {
      "image/png": "[encoded data removed]",
      "text/plain": [
       "<Figure size 432x288 with 1 Axes>"
      ]
     },
     "metadata": {
      "needs_background": "light"
     },
     "output_type": "display_data"
    }
   ],
   "source": [
    "dt_height = []\n",
    "training_errs = []\n",
    "testing_errs = []\n",
    "\n",
    "\n",
    "rf = RandomForestClassifier(n_estimators=1)\n",
    "df = pd.DataFrame(columns=['n_estimators', 'accuracy_score_train', 'accuracy_score_test'])\n",
    "for iter in range(20):\n",
    "    rf.fit(x_train,y_train)\n",
    "    y_train_predicted = rf.predict(x_train)\n",
    "    y_test_predicted = rf.predict(x_cv)\n",
    "    accuracy_score_train =accuracy_score(y_train, y_train_predicted)\n",
    "    accuracy_score_test = accuracy_score(y_cv, y_test_predicted)\n",
    "    \n",
    "    # print(\"Iteration: {} Train accuracy_score: {} Test accuracy_score: {}\".format(iter, accuracy_score_train, accuracy_score_test))\n",
    "  \n",
    "    dt_height.append(rf.n_estimators)\n",
    "    training_errs.append(accuracy_score_train)\n",
    "    testing_errs.append(accuracy_score_test)\n",
    "    rf.n_estimators += 20\n",
    "\n",
    "plt.plot(dt_height, training_errs, label=\"accuracy_score_train\")\n",
    "plt.plot(dt_height, testing_errs, label=\"accuracy_score_test\")\n",
    "\n",
    "plt.xlabel(\"estimators\")\n",
    "plt.ylabel(\"accuracy_score\")\n",
    "plt.grid(which='major', axis='both')\n",
    "\n",
    "plt.legend()\n",
    "plt.show()"
   ]
  },
  {
   "cell_type": "markdown",
   "metadata": {},
   "source": [
    "When increase tree numbers, the accuracy score has no big change."
   ]
  },
  {
   "cell_type": "markdown",
   "metadata": {},
   "source": [
    "### Feature importance based on Decision Tree "
   ]
  },
  {
   "cell_type": "code",
   "execution_count": 43,
   "metadata": {},
   "outputs": [
    {
     "data": {
      "text/plain": [
       "<AxesSubplot:>"
      ]
     },
     "execution_count": 43,
     "metadata": {},
     "output_type": "execute_result"
    },
    {
     "data": {
      "image/png": "[encoded data removed]",
      "text/plain": [
       "<Figure size 864x576 with 1 Axes>"
      ]
     },
     "metadata": {
      "needs_background": "light"
     },
     "output_type": "display_data"
    }
   ],
   "source": [
    "forest_model = RandomForestClassifier(random_state=1,max_depth=11,n_estimators=181)\n",
    "forest_model.fit(x_train,y_train)\n",
    "importances = pd.Series(forest_model.feature_importances_,index=X.columns)\n",
    "importances.plot(kind='barh', figsize=(12,8))"
   ]
  },
  {
   "cell_type": "markdown",
   "metadata": {},
   "source": [
    "Based on the above chart, we know jaccard index is the most important feature."
   ]
  },
  {
   "cell_type": "markdown",
   "metadata": {},
   "source": [
    "### Feature importance based on feature permutation"
   ]
  },
  {
   "cell_type": "code",
   "execution_count": 29,
   "metadata": {},
   "outputs": [
    {
     "data": {
      "image/png": "[encoded data removed]",
      "text/plain": [
       "<Figure size 432x288 with 1 Axes>"
      ]
     },
     "metadata": {
      "needs_background": "light"
     },
     "output_type": "display_data"
    }
   ],
   "source": [
    "from sklearn.inspection import permutation_importance\n",
    "from sklearn.ensemble import RandomForestClassifier\n",
    "import matplotlib.pyplot as plt\n",
    "\n",
    "model = RandomForestClassifier(random_state=1,max_depth=11,n_estimators=181)\n",
    "model.fit(x_train,y_train)\n",
    "\n",
    "result = permutation_importance(\n",
    "    model, x_train, y_train, n_repeats=10, random_state=42, n_jobs=2\n",
    ")\n",
    "sorted_idx = result.importances_mean.argsort()\n",
    "\n",
    "fig, ax = plt.subplots()\n",
    "ax.boxplot(\n",
    "    result.importances[sorted_idx].T, vert=False, labels=x_train.columns[sorted_idx]\n",
    ")\n",
    "ax.set_title(\"Permutation Importances (train set)\")\n",
    "fig.tight_layout()\n",
    "plt.show()"
   ]
  },
  {
   "cell_type": "markdown",
   "metadata": {},
   "source": [
    "Based on the above chart, we know jaccard index is the most important feature. The conclusion is same with decision tree feature importance."
   ]
  },
  {
   "cell_type": "markdown",
   "metadata": {},
   "source": [
    "### save the model to file"
   ]
  },
  {
   "cell_type": "code",
   "execution_count": 46,
   "metadata": {},
   "outputs": [],
   "source": [
    "import pickle\n",
    "# save the model to disk\n",
    "filename = 'finalized_model.sav'\n",
    "model=Ran_Forest_cv\n",
    "pickle.dump(model, open(filename, 'wb'))"
   ]
  },
  {
   "cell_type": "code",
   "execution_count": 47,
   "metadata": {},
   "outputs": [
    {
     "name": "stdout",
     "output_type": "stream",
     "text": [
      "0.7041045268575954\n"
     ]
    }
   ],
   "source": [
    "# load the model from disk\n",
    "filename = 'finalized_model.sav'\n",
    "loaded_model = pickle.load(open(filename, 'rb'))\n",
    "result = loaded_model.score(x_cv, y_cv)\n",
    "print(result)"
   ]
  },
  {
   "cell_type": "markdown",
   "metadata": {},
   "source": [
    "## 6, find the same question"
   ]
  },
  {
   "cell_type": "markdown",
   "metadata": {},
   "source": [
    "### Create a unique questions dataframe"
   ]
  },
  {
   "cell_type": "code",
   "execution_count": 3,
   "metadata": {},
   "outputs": [
    {
     "data": {
      "text/html": [
       "<div>\n",
       "<style scoped>\n",
       "    .dataframe tbody tr th:only-of-type {\n",
       "        vertical-align: middle;\n",
       "    }\n",
       "\n",
       "    .dataframe tbody tr th {\n",
       "        vertical-align: top;\n",
       "    }\n",
       "\n",
       "    .dataframe thead th {\n",
       "        text-align: right;\n",
       "    }\n",
       "</style>\n",
       "<table border=\"1\" class=\"dataframe\">\n",
       "  <thead>\n",
       "    <tr style=\"text-align: right;\">\n",
       "      <th></th>\n",
       "      <th>question</th>\n",
       "    </tr>\n",
       "  </thead>\n",
       "  <tbody>\n",
       "    <tr>\n",
       "      <th>0</th>\n",
       "      <td>What is the step by step guide to invest in sh...</td>\n",
       "    </tr>\n",
       "    <tr>\n",
       "      <th>1</th>\n",
       "      <td>What is the story of Kohinoor (Koh-i-Noor) Dia...</td>\n",
       "    </tr>\n",
       "    <tr>\n",
       "      <th>2</th>\n",
       "      <td>How can I increase the speed of my internet co...</td>\n",
       "    </tr>\n",
       "    <tr>\n",
       "      <th>3</th>\n",
       "      <td>Why am I mentally very lonely? How can I solve...</td>\n",
       "    </tr>\n",
       "    <tr>\n",
       "      <th>4</th>\n",
       "      <td>Which one dissolve in water quikly sugar, salt...</td>\n",
       "    </tr>\n",
       "  </tbody>\n",
       "</table>\n",
       "</div>"
      ],
      "text/plain": [
       "                                            question\n",
       "0  What is the step by step guide to invest in sh...\n",
       "1  What is the story of Kohinoor (Koh-i-Noor) Dia...\n",
       "2  How can I increase the speed of my internet co...\n",
       "3  Why am I mentally very lonely? How can I solve...\n",
       "4  Which one dissolve in water quikly sugar, salt..."
      ]
     },
     "execution_count": 3,
     "metadata": {},
     "output_type": "execute_result"
    }
   ],
   "source": [
    "import pandas as pd\n",
    "df = pd.read_csv(\"train.csv\", encoding='cp1252')\n",
    "df = df.loc[:, ~df.columns.str.contains('^Unnamed')]\n",
    "questions = pd.Series(df['question1'].tolist() + df['question2'].tolist())\n",
    "unique_questions=questions.unique()\n",
    "df_one = pd.DataFrame(unique_questions, columns = ['question'])\n",
    "df_one.head()"
   ]
  },
  {
   "cell_type": "markdown",
   "metadata": {},
   "source": [
    "### I will define the same question based on a broad criteria. If after changing lower case, removing punctuation, tokenization, removing stop words and stems, two questions are same, I will define they are same questions."
   ]
  },
  {
   "cell_type": "code",
   "execution_count": 5,
   "metadata": {},
   "outputs": [
    {
     "name": "stderr",
     "output_type": "stream",
     "text": [
      "<ipython-input-5-0c4bbff6c48a>:7: FutureWarning: The default value of regex will change from True to False in a future version.\n",
      "  df_one['question_new'] = df_one['question_new'].str.replace('[^\\w\\s]','')\n"
     ]
    },
    {
     "data": {
      "text/html": [
       "<div>\n",
       "<style scoped>\n",
       "    .dataframe tbody tr th:only-of-type {\n",
       "        vertical-align: middle;\n",
       "    }\n",
       "\n",
       "    .dataframe tbody tr th {\n",
       "        vertical-align: top;\n",
       "    }\n",
       "\n",
       "    .dataframe thead th {\n",
       "        text-align: right;\n",
       "    }\n",
       "</style>\n",
       "<table border=\"1\" class=\"dataframe\">\n",
       "  <thead>\n",
       "    <tr style=\"text-align: right;\">\n",
       "      <th></th>\n",
       "      <th>question</th>\n",
       "      <th>question_new</th>\n",
       "    </tr>\n",
       "  </thead>\n",
       "  <tbody>\n",
       "    <tr>\n",
       "      <th>0</th>\n",
       "      <td>What is the step by step guide to invest in sh...</td>\n",
       "      <td>step step guid invest share market india</td>\n",
       "    </tr>\n",
       "    <tr>\n",
       "      <th>1</th>\n",
       "      <td>What is the story of Kohinoor (Koh-i-Noor) Dia...</td>\n",
       "      <td>stori kohinoor kohinoor diamond</td>\n",
       "    </tr>\n",
       "    <tr>\n",
       "      <th>2</th>\n",
       "      <td>How can I increase the speed of my internet co...</td>\n",
       "      <td>increas speed internet connect use vpn</td>\n",
       "    </tr>\n",
       "    <tr>\n",
       "      <th>3</th>\n",
       "      <td>Why am I mentally very lonely? How can I solve...</td>\n",
       "      <td>mental lone solv</td>\n",
       "    </tr>\n",
       "    <tr>\n",
       "      <th>4</th>\n",
       "      <td>Which one dissolve in water quikly sugar, salt...</td>\n",
       "      <td>one dissolv water quikli sugar salt methan car...</td>\n",
       "    </tr>\n",
       "  </tbody>\n",
       "</table>\n",
       "</div>"
      ],
      "text/plain": [
       "                                            question  \\\n",
       "0  What is the step by step guide to invest in sh...   \n",
       "1  What is the story of Kohinoor (Koh-i-Noor) Dia...   \n",
       "2  How can I increase the speed of my internet co...   \n",
       "3  Why am I mentally very lonely? How can I solve...   \n",
       "4  Which one dissolve in water quikly sugar, salt...   \n",
       "\n",
       "                                        question_new  \n",
       "0           step step guid invest share market india  \n",
       "1                    stori kohinoor kohinoor diamond  \n",
       "2             increas speed internet connect use vpn  \n",
       "3                                   mental lone solv  \n",
       "4  one dissolv water quikli sugar salt methan car...  "
      ]
     },
     "execution_count": 5,
     "metadata": {},
     "output_type": "execute_result"
    }
   ],
   "source": [
    "import pandas as pd\n",
    "\n",
    "#change to lower case\n",
    "df_one['question_new']=df_one['question'].str.lower()\n",
    "\n",
    "#Removing punctuation\n",
    "df_one['question_new'] = df_one['question_new'].str.replace('[^\\w\\s]','')\n",
    "\n",
    "# Tokenization\n",
    "import nltk\n",
    "df_one=df_one.dropna()\n",
    "\n",
    "def tokenize(column):\n",
    "    tokens = nltk.word_tokenize(column)\n",
    "    return [w for w in tokens if w.isalpha()] \n",
    "df_one['question_new'] = df_one.apply(lambda x: tokenize(x['question_new']), axis=1)\n",
    "\n",
    "# stop words clean\n",
    "from nltk.corpus import stopwords\n",
    "from nltk.stem.porter import PorterStemmer \n",
    "\n",
    "def remove_stopwords(text):\n",
    "     words=[w for w in text if w not in stopwords.words('english')]\n",
    "     return words\n",
    "df_one['question_new']=df_one['question_new'].apply(lambda x: remove_stopwords(x))\n",
    "\n",
    "# Stemming\n",
    "def apply_stemming(tokenized_column):\n",
    "    stemmer = PorterStemmer() \n",
    "    return [stemmer.stem(word) for word in tokenized_column]\n",
    "df_one['question_new'] = df_one.apply(lambda x: apply_stemming(x['question_new']), axis=1)\n",
    "\n",
    "# Rejoining\n",
    "def rejoin_words(tokenized_column):\n",
    "    \n",
    "    return ( \" \".join(tokenized_column))\n",
    "df_one['question_new'] = df_one.apply(lambda x: rejoin_words(x['question_new']), axis=1)\n",
    "\n",
    "df_one.to_csv('onelistdata.csv',index=False)\n",
    "df_one.head()"
   ]
  },
  {
   "cell_type": "markdown",
   "metadata": {},
   "source": [
    "### input a question and search for same question"
   ]
  },
  {
   "cell_type": "code",
   "execution_count": 32,
   "metadata": {},
   "outputs": [
    {
     "name": "stdout",
     "output_type": "stream",
     "text": [
      "input your question: mental lone solv china\n",
      "Find the same question Series([], Name: question, dtype: object)\n"
     ]
    }
   ],
   "source": [
    "# get the question dataset\n",
    "import pandas as pd\n",
    "df_one2 = pd.read_csv(\"onelistdata.csv\", encoding='cp1252')\n",
    "df_one2= df_one2.loc[:, ~df_one2.columns.str.contains('^Unnamed')]\n",
    "\n",
    "# input words\n",
    "new_question=input('input your question: ')\n",
    "\n",
    "# change to lowercase\n",
    "new_question2=new_question.lower()\n",
    "\n",
    "#Removing punctuation\n",
    "punctuations = '''!()-[]{};:'\"\\,<>./?@#$%^&*_~'''\n",
    "no_punct = \"\"\n",
    "for char in new_question2:\n",
    "   if char not in punctuations:\n",
    "       no_punct = no_punct + char\n",
    "new_question2 = no_punct\n",
    "\n",
    "# tokenize\n",
    "from nltk.tokenize import word_tokenize\n",
    "new_question2=tokenize(new_question2)\n",
    "\n",
    "# stop words clean\n",
    "from nltk.corpus import stopwords\n",
    "en_stops = set(stopwords.words('english'))\n",
    "\n",
    "filtered_sentence = []\n",
    "for word in new_question2: \n",
    "    if word not in en_stops:\n",
    "         filtered_sentence.append(word)\n",
    "new_question2=filtered_sentence\n",
    "\n",
    "# import these modules\n",
    "from nltk.stem import PorterStemmer\n",
    "\n",
    "  \n",
    "ps = PorterStemmer()\n",
    " \n",
    "# choose some words to be stemmed\n",
    "filtered_sentence = []\n",
    "for w in new_question2:\n",
    "     filtered_sentence.append(ps.stem(w))\n",
    "new_question2=filtered_sentence\n",
    "\n",
    "# Rejoining\n",
    "new_question2 = ' '.join(map(str, new_question2))\n",
    "\n",
    "### search the dataset to find if there is same question\n",
    "\n",
    "df_result=df_one2[df_one2['question_new']==new_question2]['question']\n",
    "pd.options.display.max_colwidth = 90  # set a value as your need\n",
    "print(\"Find the same question\", df_result)"
   ]
  },
  {
   "cell_type": "markdown",
   "metadata": {},
   "source": [
    "## 7,  Use the Model to find similar question for user"
   ]
  },
  {
   "cell_type": "code",
   "execution_count": 33,
   "metadata": {},
   "outputs": [
    {
     "name": "stdout",
     "output_type": "stream",
     "text": [
      "Find the similar question:  Why am I mentally very lonely? How can I solve it?\n"
     ]
    }
   ],
   "source": [
    "df_one2 = pd.read_csv(\"onelistdata.csv\", encoding='cp1252')\n",
    "df_one2= df_one2.loc[:, ~df_one2.columns.str.contains('^Unnamed')]\n",
    "df_one2['input_question']=new_question2\n",
    "\n",
    "df_b_l_f=df_one2\n",
    "#  I calculate q1len and q2len\n",
    "df_b_l_f['q1len'] = df_b_l_f['question_new'].str.len() \n",
    "df_b_l_f['q2len'] = df_b_l_f['input_question'].str.len()\n",
    "\n",
    "#  I calculate q1_n_words and q2_n_words\n",
    "df_b_l_f['q1_n_words'] = df_b_l_f['question_new'].apply(lambda row: len(str(row).split(\" \")))\n",
    "df_b_l_f['q2_n_words'] = df_b_l_f['input_question'].apply(lambda row: len(str(row).split(\" \")))\n",
    "\n",
    "#  I calculate word_total \n",
    "def normalized_word_Total(row):\n",
    "        w1 = set(map(lambda word: word.lower().strip(), str(row['question_new']).split(\" \")))\n",
    "        w2 = set(map(lambda word: word.lower().strip(), str(row['input_question']).split(\" \")))    \n",
    "        return 1.0 * (len(w1) + len(w2))\n",
    "df_b_l_f['word_Total'] = df_b_l_f.apply(normalized_word_Total, axis=1)\n",
    "\n",
    "\n",
    "#  I calculate word_Common\n",
    "def normalized_word_Common(row):\n",
    "        w1 = set(map(lambda word: word.lower().strip(), str(row['question_new']).split(\" \")))\n",
    "        w2 = set(map(lambda word: word.lower().strip(), str(row['input_question']).split(\" \")))    \n",
    "        return 1.0 * len(w1 & w2)\n",
    "df_b_l_f['word_Common'] = df_b_l_f.apply(normalized_word_Common, axis=1)\n",
    "\n",
    "#  I calculate word_unique\n",
    "def normalized_word_Common(row):\n",
    "        w1 = set(map(lambda word: word.lower().strip(), str(row['question_new']).split(\" \")))\n",
    "        w2 = set(map(lambda word: word.lower().strip(), str(row['input_question']).split(\" \")))    \n",
    "        return 1.0 * len(set(w1 | w2))\n",
    "df_b_l_f['word_unique'] = df_b_l_f.apply(normalized_word_Common, axis=1)\n",
    "\n",
    "#  I calculate jaccard index\n",
    "def normalized_word_share(row):\n",
    "        w1 = set(map(lambda word: word.lower().strip(), str(row['question_new']).split(\" \")))\n",
    "        w2 = set(map(lambda word: word.lower().strip(), str(row['input_question']).split(\" \")))    \n",
    "        return 1.0 * len(w1 & w2)/len(set(w1 | w2))\n",
    "df_b_l_f['jaccard_index'] = df_b_l_f.apply(normalized_word_share, axis=1)\n",
    "\n",
    "#df_b_l_f.head()\n",
    "\n",
    "df_b_l_f=df_b_l_f.dropna()\n",
    "\n",
    "X=df_b_l_f.drop(['question','question_new','input_question'], axis = 1)\n",
    "\n",
    "# load the model from disk\n",
    "import pickle\n",
    "filename = 'finalized_model.sav'\n",
    "loaded_model = pickle.load(open(filename, 'rb'))\n",
    "y_pre=loaded_model.predict(X)\n",
    "df_pre = pd.DataFrame(y_pre, columns = ['pre'])\n",
    "result = pd.concat([df_one2, df_pre], axis=1)\n",
    "\n",
    "df_result=result[result['pre']==1]['question']\n",
    "pd.options.display.max_colwidth = 90  # set a value as your need\n",
    "print(\"Find the similar question: \", df_result.iloc[0])\n"
   ]
  },
  {
   "cell_type": "code",
   "execution_count": null,
   "metadata": {},
   "outputs": [],
   "source": []
  }
 ],
 "metadata": {
  "kernelspec": {
   "display_name": "Python 3",
   "language": "python",
   "name": "python3"
  },
  "language_info": {
   "codemirror_mode": {
    "name": "ipython",
    "version": 3
   },
   "file_extension": ".py",
   "mimetype": "text/x-python",
   "name": "python",
   "nbconvert_exporter": "python",
   "pygments_lexer": "ipython3",
   "version": "3.8.8"
  }
 },
 "nbformat": 4,
 "nbformat_minor": 4
}
